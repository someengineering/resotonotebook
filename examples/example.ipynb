{
 "cells": [
  {
   "cell_type": "code",
   "execution_count": 1,
   "metadata": {},
   "outputs": [],
   "source": [
    "%load_ext autoreload\n",
    "%autoreload 2"
   ]
  },
  {
   "cell_type": "markdown",
   "metadata": {},
   "source": [
    "# Resoto jupyter notebook showcase\n",
    "\n",
    "Welcome to Resoto!\n",
    "\n",
    "This is a showcase of how you can interact with resoto using jupyter notebooks.\n",
    "\n",
    "To get started, let's install the resotonotebook library first (uncomment the next line if you execute this notebook for the first time):"
   ]
  },
  {
   "cell_type": "code",
   "execution_count": 2,
   "metadata": {},
   "outputs": [],
   "source": [
    "# ! pip install --upgrade pip resotonotebook"
   ]
  },
  {
   "cell_type": "markdown",
   "metadata": {},
   "source": [
    "After the installation, we need a few imports:"
   ]
  },
  {
   "cell_type": "code",
   "execution_count": 3,
   "metadata": {},
   "outputs": [],
   "source": [
    "from resotonotebook import ResotoNotebook"
   ]
  },
  {
   "cell_type": "markdown",
   "metadata": {},
   "source": [
    "The main interface is the `ResotoNotebook` class. It provides the methods to search the graph and visualize the results.\n",
    "\n",
    "To create the `ResotoNotebook` object, we need to pass the URI of the resotocore and a pre shared key (PSK). If you started the resotocore without the `--psk` option (e.g. in your local setup), you can pass None as the PSK: "
   ]
  },
  {
   "cell_type": "code",
   "execution_count": 4,
   "metadata": {},
   "outputs": [],
   "source": [
    "rnb = ResotoNotebook(\"https://localhost:8900\", None)"
   ]
  },
  {
   "cell_type": "markdown",
   "metadata": {},
   "source": [
    "Once we have the `ResotoNotebook` object, we can start performing searches.\n",
    "\n"
   ]
  },
  {
   "cell_type": "markdown",
   "metadata": {},
   "source": [
    "### Full text search\n",
    "\n",
    "For example, we can search all resources for a property with value foobar:"
   ]
  },
  {
   "cell_type": "code",
   "execution_count": 5,
   "metadata": {},
   "outputs": [
    {
     "data": {
      "text/html": [
       "<div>\n",
       "<style scoped>\n",
       "    .dataframe tbody tr th:only-of-type {\n",
       "        vertical-align: middle;\n",
       "    }\n",
       "\n",
       "    .dataframe tbody tr th {\n",
       "        vertical-align: top;\n",
       "    }\n",
       "\n",
       "    .dataframe thead th {\n",
       "        text-align: right;\n",
       "    }\n",
       "</style>\n",
       "<table border=\"1\" class=\"dataframe\">\n",
       "  <thead>\n",
       "    <tr style=\"text-align: right;\">\n",
       "      <th></th>\n",
       "      <th>kind</th>\n",
       "      <th>id</th>\n",
       "      <th>tags</th>\n",
       "      <th>name</th>\n",
       "      <th>urn</th>\n",
       "      <th>ctime</th>\n",
       "      <th>age</th>\n",
       "      <th>account_id</th>\n",
       "      <th>region_id</th>\n",
       "      <th>cloud_id</th>\n",
       "    </tr>\n",
       "  </thead>\n",
       "  <tbody>\n",
       "    <tr>\n",
       "      <th>0</th>\n",
       "      <td>digitalocean_tag</td>\n",
       "      <td>foobar</td>\n",
       "      <td>{}</td>\n",
       "      <td>foobar</td>\n",
       "      <td>do:tag:foobar</td>\n",
       "      <td>2022-04-12 11:53:47+00:00</td>\n",
       "      <td>19d20h</td>\n",
       "      <td>10923436</td>\n",
       "      <td>None</td>\n",
       "      <td>do</td>\n",
       "    </tr>\n",
       "  </tbody>\n",
       "</table>\n",
       "</div>"
      ],
      "text/plain": [
       "               kind      id tags    name            urn  \\\n",
       "0  digitalocean_tag  foobar   {}  foobar  do:tag:foobar   \n",
       "\n",
       "                      ctime     age account_id region_id cloud_id  \n",
       "0 2022-04-12 11:53:47+00:00  19d20h   10923436      None       do  "
      ]
     },
     "execution_count": 5,
     "metadata": {},
     "output_type": "execute_result"
    }
   ],
   "source": [
    "rnb.search('\"foobar\"')"
   ]
  },
  {
   "cell_type": "markdown",
   "metadata": {},
   "source": [
    "Or using the cli command:"
   ]
  },
  {
   "cell_type": "code",
   "execution_count": 6,
   "metadata": {},
   "outputs": [
    {
     "data": {
      "text/html": [
       "<div>\n",
       "<style scoped>\n",
       "    .dataframe tbody tr th:only-of-type {\n",
       "        vertical-align: middle;\n",
       "    }\n",
       "\n",
       "    .dataframe tbody tr th {\n",
       "        vertical-align: top;\n",
       "    }\n",
       "\n",
       "    .dataframe thead th {\n",
       "        text-align: right;\n",
       "    }\n",
       "</style>\n",
       "<table border=\"1\" class=\"dataframe\">\n",
       "  <thead>\n",
       "    <tr style=\"text-align: right;\">\n",
       "      <th></th>\n",
       "      <th>kind</th>\n",
       "      <th>id</th>\n",
       "      <th>tags</th>\n",
       "      <th>name</th>\n",
       "      <th>urn</th>\n",
       "      <th>ctime</th>\n",
       "      <th>age</th>\n",
       "      <th>account_id</th>\n",
       "      <th>region_id</th>\n",
       "      <th>cloud_id</th>\n",
       "    </tr>\n",
       "  </thead>\n",
       "  <tbody>\n",
       "    <tr>\n",
       "      <th>0</th>\n",
       "      <td>digitalocean_tag</td>\n",
       "      <td>foobar</td>\n",
       "      <td>{}</td>\n",
       "      <td>foobar</td>\n",
       "      <td>do:tag:foobar</td>\n",
       "      <td>2022-04-12 11:53:47+00:00</td>\n",
       "      <td>19d20h</td>\n",
       "      <td>10923436</td>\n",
       "      <td>None</td>\n",
       "      <td>do</td>\n",
       "    </tr>\n",
       "  </tbody>\n",
       "</table>\n",
       "</div>"
      ],
      "text/plain": [
       "               kind      id tags    name            urn  \\\n",
       "0  digitalocean_tag  foobar   {}  foobar  do:tag:foobar   \n",
       "\n",
       "                      ctime     age account_id region_id cloud_id  \n",
       "0 2022-04-12 11:53:47+00:00  19d20h   10923436      None       do  "
      ]
     },
     "execution_count": 6,
     "metadata": {},
     "output_type": "execute_result"
    }
   ],
   "source": [
    "rnb.cli_execute('search \"foobar\"')"
   ]
  },
  {
   "cell_type": "markdown",
   "metadata": {},
   "source": [
    "### Counting\n",
    "\n",
    "Get number of all collected instances by kind"
   ]
  },
  {
   "cell_type": "code",
   "execution_count": 7,
   "metadata": {},
   "outputs": [
    {
     "data": {
      "text/plain": [
       "kind\n",
       "aws_ec2_instance        497\n",
       "digitalocean_droplet      7\n",
       "example_instance          2\n",
       "gcp_instance             12\n",
       "Name: kind, dtype: int64"
      ]
     },
     "execution_count": 7,
     "metadata": {},
     "output_type": "execute_result"
    }
   ],
   "source": [
    "rnb.search(\"is(instance)\").groupby([\"kind\"])[\"kind\"].count()"
   ]
  },
  {
   "cell_type": "markdown",
   "metadata": {},
   "source": [
    "Using the cli command:"
   ]
  },
  {
   "cell_type": "code",
   "execution_count": 8,
   "metadata": {},
   "outputs": [
    {
     "data": {
      "text/html": [
       "<div>\n",
       "<style scoped>\n",
       "    .dataframe tbody tr th:only-of-type {\n",
       "        vertical-align: middle;\n",
       "    }\n",
       "\n",
       "    .dataframe tbody tr th {\n",
       "        vertical-align: top;\n",
       "    }\n",
       "\n",
       "    .dataframe thead th {\n",
       "        text-align: right;\n",
       "    }\n",
       "</style>\n",
       "<table border=\"1\" class=\"dataframe\">\n",
       "  <thead>\n",
       "    <tr style=\"text-align: right;\">\n",
       "      <th></th>\n",
       "      <th>0</th>\n",
       "    </tr>\n",
       "  </thead>\n",
       "  <tbody>\n",
       "    <tr>\n",
       "      <th>0</th>\n",
       "      <td>example_instance: 2</td>\n",
       "    </tr>\n",
       "    <tr>\n",
       "      <th>1</th>\n",
       "      <td>digitalocean_droplet: 7</td>\n",
       "    </tr>\n",
       "    <tr>\n",
       "      <th>2</th>\n",
       "      <td>gcp_instance: 12</td>\n",
       "    </tr>\n",
       "    <tr>\n",
       "      <th>3</th>\n",
       "      <td>aws_ec2_instance: 497</td>\n",
       "    </tr>\n",
       "    <tr>\n",
       "      <th>4</th>\n",
       "      <td>total matched: 518</td>\n",
       "    </tr>\n",
       "    <tr>\n",
       "      <th>5</th>\n",
       "      <td>total unmatched: 0</td>\n",
       "    </tr>\n",
       "  </tbody>\n",
       "</table>\n",
       "</div>"
      ],
      "text/plain": [
       "                         0\n",
       "0      example_instance: 2\n",
       "1  digitalocean_droplet: 7\n",
       "2         gcp_instance: 12\n",
       "3    aws_ec2_instance: 497\n",
       "4       total matched: 518\n",
       "5       total unmatched: 0"
      ]
     },
     "execution_count": 8,
     "metadata": {},
     "output_type": "execute_result"
    }
   ],
   "source": [
    "rnb.cli_execute(\"search is(instance) | count kind\")"
   ]
  },
  {
   "cell_type": "markdown",
   "metadata": {},
   "source": [
    "### Searching by kind\n",
    "\n",
    "Get list of all the DigitalOcean droplets:"
   ]
  },
  {
   "cell_type": "code",
   "execution_count": 9,
   "metadata": {},
   "outputs": [
    {
     "data": {
      "text/html": [
       "<div>\n",
       "<style scoped>\n",
       "    .dataframe tbody tr th:only-of-type {\n",
       "        vertical-align: middle;\n",
       "    }\n",
       "\n",
       "    .dataframe tbody tr th {\n",
       "        vertical-align: top;\n",
       "    }\n",
       "\n",
       "    .dataframe thead th {\n",
       "        text-align: right;\n",
       "    }\n",
       "</style>\n",
       "<table border=\"1\" class=\"dataframe\">\n",
       "  <thead>\n",
       "    <tr style=\"text-align: right;\">\n",
       "      <th></th>\n",
       "      <th>kind</th>\n",
       "      <th>id</th>\n",
       "      <th>tags</th>\n",
       "      <th>name</th>\n",
       "      <th>ctime</th>\n",
       "      <th>instance_cores</th>\n",
       "      <th>instance_memory</th>\n",
       "      <th>instance_type</th>\n",
       "      <th>instance_status</th>\n",
       "      <th>urn</th>\n",
       "      <th>droplet_backup_ids</th>\n",
       "      <th>is_locked</th>\n",
       "      <th>droplet_features</th>\n",
       "      <th>age</th>\n",
       "      <th>account_id</th>\n",
       "      <th>region_id</th>\n",
       "      <th>cloud_id</th>\n",
       "      <th>droplet_image</th>\n",
       "    </tr>\n",
       "  </thead>\n",
       "  <tbody>\n",
       "    <tr>\n",
       "      <th>0</th>\n",
       "      <td>digitalocean_droplet</td>\n",
       "      <td>289061880</td>\n",
       "      <td>{'k8s': '', 'k8s:worker': '', 'k8s:9a3ac2b5-3e...</td>\n",
       "      <td>analytics-u1wtx</td>\n",
       "      <td>2022-03-03 09:20:38+00:00</td>\n",
       "      <td>2</td>\n",
       "      <td>8192</td>\n",
       "      <td></td>\n",
       "      <td>running</td>\n",
       "      <td>do:droplet:289061880</td>\n",
       "      <td>[]</td>\n",
       "      <td>False</td>\n",
       "      <td>[droplet_agent, private_networking]</td>\n",
       "      <td>1mo28d</td>\n",
       "      <td>10225075</td>\n",
       "      <td>ams3</td>\n",
       "      <td>do</td>\n",
       "      <td>NaN</td>\n",
       "    </tr>\n",
       "    <tr>\n",
       "      <th>1</th>\n",
       "      <td>digitalocean_droplet</td>\n",
       "      <td>289061881</td>\n",
       "      <td>{'k8s': '', 'k8s:worker': '', 'k8s:9a3ac2b5-3e...</td>\n",
       "      <td>analytics-u1wto</td>\n",
       "      <td>2022-03-03 09:20:38+00:00</td>\n",
       "      <td>2</td>\n",
       "      <td>8192</td>\n",
       "      <td></td>\n",
       "      <td>running</td>\n",
       "      <td>do:droplet:289061881</td>\n",
       "      <td>[]</td>\n",
       "      <td>False</td>\n",
       "      <td>[droplet_agent, private_networking]</td>\n",
       "      <td>1mo28d</td>\n",
       "      <td>10225075</td>\n",
       "      <td>ams3</td>\n",
       "      <td>do</td>\n",
       "      <td>NaN</td>\n",
       "    </tr>\n",
       "    <tr>\n",
       "      <th>2</th>\n",
       "      <td>digitalocean_droplet</td>\n",
       "      <td>289061882</td>\n",
       "      <td>{'k8s': '', 'k8s:worker': '', 'k8s:9a3ac2b5-3e...</td>\n",
       "      <td>analytics-u1wtj</td>\n",
       "      <td>2022-03-03 09:20:38+00:00</td>\n",
       "      <td>2</td>\n",
       "      <td>8192</td>\n",
       "      <td></td>\n",
       "      <td>running</td>\n",
       "      <td>do:droplet:289061882</td>\n",
       "      <td>[]</td>\n",
       "      <td>False</td>\n",
       "      <td>[droplet_agent, private_networking]</td>\n",
       "      <td>1mo28d</td>\n",
       "      <td>10225075</td>\n",
       "      <td>ams3</td>\n",
       "      <td>do</td>\n",
       "      <td>NaN</td>\n",
       "    </tr>\n",
       "    <tr>\n",
       "      <th>3</th>\n",
       "      <td>digitalocean_droplet</td>\n",
       "      <td>291923577</td>\n",
       "      <td>{}</td>\n",
       "      <td>ubuntu-s-1vcpu-1gb-ams3-01</td>\n",
       "      <td>2022-03-23 12:50:45+00:00</td>\n",
       "      <td>1</td>\n",
       "      <td>1024</td>\n",
       "      <td></td>\n",
       "      <td>unknown</td>\n",
       "      <td>do:droplet:291923577</td>\n",
       "      <td>[]</td>\n",
       "      <td>False</td>\n",
       "      <td>[droplet_agent, private_networking]</td>\n",
       "      <td>1mo8d</td>\n",
       "      <td>10923436</td>\n",
       "      <td>ams3</td>\n",
       "      <td>do</td>\n",
       "      <td>ubuntu-20-04-x64</td>\n",
       "    </tr>\n",
       "    <tr>\n",
       "      <th>4</th>\n",
       "      <td>digitalocean_droplet</td>\n",
       "      <td>294614223</td>\n",
       "      <td>{'k8s': '', 'k8s:worker': '', 'k8s:31e9afd3-a8...</td>\n",
       "      <td>helm2-cmxul</td>\n",
       "      <td>2022-04-09 15:07:10+00:00</td>\n",
       "      <td>2</td>\n",
       "      <td>4096</td>\n",
       "      <td></td>\n",
       "      <td>running</td>\n",
       "      <td>do:droplet:294614223</td>\n",
       "      <td>[]</td>\n",
       "      <td>False</td>\n",
       "      <td>[private_networking]</td>\n",
       "      <td>22d17h</td>\n",
       "      <td>10225075</td>\n",
       "      <td>fra1</td>\n",
       "      <td>do</td>\n",
       "      <td>NaN</td>\n",
       "    </tr>\n",
       "    <tr>\n",
       "      <th>5</th>\n",
       "      <td>digitalocean_droplet</td>\n",
       "      <td>294614225</td>\n",
       "      <td>{'k8s': '', 'k8s:worker': '', 'k8s:31e9afd3-a8...</td>\n",
       "      <td>helm2-cmxut</td>\n",
       "      <td>2022-04-09 15:07:10+00:00</td>\n",
       "      <td>2</td>\n",
       "      <td>4096</td>\n",
       "      <td></td>\n",
       "      <td>running</td>\n",
       "      <td>do:droplet:294614225</td>\n",
       "      <td>[]</td>\n",
       "      <td>False</td>\n",
       "      <td>[private_networking]</td>\n",
       "      <td>22d17h</td>\n",
       "      <td>10225075</td>\n",
       "      <td>fra1</td>\n",
       "      <td>do</td>\n",
       "      <td>NaN</td>\n",
       "    </tr>\n",
       "    <tr>\n",
       "      <th>6</th>\n",
       "      <td>digitalocean_droplet</td>\n",
       "      <td>294614226</td>\n",
       "      <td>{'k8s': '', 'k8s:worker': '', 'k8s:31e9afd3-a8...</td>\n",
       "      <td>helm2-cmxu6</td>\n",
       "      <td>2022-04-09 15:07:11+00:00</td>\n",
       "      <td>2</td>\n",
       "      <td>4096</td>\n",
       "      <td></td>\n",
       "      <td>running</td>\n",
       "      <td>do:droplet:294614226</td>\n",
       "      <td>[]</td>\n",
       "      <td>False</td>\n",
       "      <td>[private_networking]</td>\n",
       "      <td>22d17h</td>\n",
       "      <td>10225075</td>\n",
       "      <td>fra1</td>\n",
       "      <td>do</td>\n",
       "      <td>NaN</td>\n",
       "    </tr>\n",
       "  </tbody>\n",
       "</table>\n",
       "</div>"
      ],
      "text/plain": [
       "                   kind         id  \\\n",
       "0  digitalocean_droplet  289061880   \n",
       "1  digitalocean_droplet  289061881   \n",
       "2  digitalocean_droplet  289061882   \n",
       "3  digitalocean_droplet  291923577   \n",
       "4  digitalocean_droplet  294614223   \n",
       "5  digitalocean_droplet  294614225   \n",
       "6  digitalocean_droplet  294614226   \n",
       "\n",
       "                                                tags  \\\n",
       "0  {'k8s': '', 'k8s:worker': '', 'k8s:9a3ac2b5-3e...   \n",
       "1  {'k8s': '', 'k8s:worker': '', 'k8s:9a3ac2b5-3e...   \n",
       "2  {'k8s': '', 'k8s:worker': '', 'k8s:9a3ac2b5-3e...   \n",
       "3                                                 {}   \n",
       "4  {'k8s': '', 'k8s:worker': '', 'k8s:31e9afd3-a8...   \n",
       "5  {'k8s': '', 'k8s:worker': '', 'k8s:31e9afd3-a8...   \n",
       "6  {'k8s': '', 'k8s:worker': '', 'k8s:31e9afd3-a8...   \n",
       "\n",
       "                         name                     ctime  instance_cores  \\\n",
       "0             analytics-u1wtx 2022-03-03 09:20:38+00:00               2   \n",
       "1             analytics-u1wto 2022-03-03 09:20:38+00:00               2   \n",
       "2             analytics-u1wtj 2022-03-03 09:20:38+00:00               2   \n",
       "3  ubuntu-s-1vcpu-1gb-ams3-01 2022-03-23 12:50:45+00:00               1   \n",
       "4                 helm2-cmxul 2022-04-09 15:07:10+00:00               2   \n",
       "5                 helm2-cmxut 2022-04-09 15:07:10+00:00               2   \n",
       "6                 helm2-cmxu6 2022-04-09 15:07:11+00:00               2   \n",
       "\n",
       "   instance_memory instance_type instance_status                   urn  \\\n",
       "0             8192                       running  do:droplet:289061880   \n",
       "1             8192                       running  do:droplet:289061881   \n",
       "2             8192                       running  do:droplet:289061882   \n",
       "3             1024                       unknown  do:droplet:291923577   \n",
       "4             4096                       running  do:droplet:294614223   \n",
       "5             4096                       running  do:droplet:294614225   \n",
       "6             4096                       running  do:droplet:294614226   \n",
       "\n",
       "  droplet_backup_ids  is_locked                     droplet_features     age  \\\n",
       "0                 []      False  [droplet_agent, private_networking]  1mo28d   \n",
       "1                 []      False  [droplet_agent, private_networking]  1mo28d   \n",
       "2                 []      False  [droplet_agent, private_networking]  1mo28d   \n",
       "3                 []      False  [droplet_agent, private_networking]   1mo8d   \n",
       "4                 []      False                 [private_networking]  22d17h   \n",
       "5                 []      False                 [private_networking]  22d17h   \n",
       "6                 []      False                 [private_networking]  22d17h   \n",
       "\n",
       "  account_id region_id cloud_id     droplet_image  \n",
       "0   10225075      ams3       do               NaN  \n",
       "1   10225075      ams3       do               NaN  \n",
       "2   10225075      ams3       do               NaN  \n",
       "3   10923436      ams3       do  ubuntu-20-04-x64  \n",
       "4   10225075      fra1       do               NaN  \n",
       "5   10225075      fra1       do               NaN  \n",
       "6   10225075      fra1       do               NaN  "
      ]
     },
     "execution_count": 9,
     "metadata": {},
     "output_type": "execute_result"
    }
   ],
   "source": [
    "rnb.search(\"is(digitalocean_droplet)\")"
   ]
  },
  {
   "cell_type": "markdown",
   "metadata": {},
   "source": [
    "Using the cli command:"
   ]
  },
  {
   "cell_type": "code",
   "execution_count": 10,
   "metadata": {},
   "outputs": [
    {
     "data": {
      "text/html": [
       "<div>\n",
       "<style scoped>\n",
       "    .dataframe tbody tr th:only-of-type {\n",
       "        vertical-align: middle;\n",
       "    }\n",
       "\n",
       "    .dataframe tbody tr th {\n",
       "        vertical-align: top;\n",
       "    }\n",
       "\n",
       "    .dataframe thead th {\n",
       "        text-align: right;\n",
       "    }\n",
       "</style>\n",
       "<table border=\"1\" class=\"dataframe\">\n",
       "  <thead>\n",
       "    <tr style=\"text-align: right;\">\n",
       "      <th></th>\n",
       "      <th>kind</th>\n",
       "      <th>id</th>\n",
       "      <th>tags</th>\n",
       "      <th>name</th>\n",
       "      <th>ctime</th>\n",
       "      <th>instance_cores</th>\n",
       "      <th>instance_memory</th>\n",
       "      <th>instance_type</th>\n",
       "      <th>instance_status</th>\n",
       "      <th>urn</th>\n",
       "      <th>droplet_backup_ids</th>\n",
       "      <th>is_locked</th>\n",
       "      <th>droplet_features</th>\n",
       "      <th>age</th>\n",
       "      <th>account_id</th>\n",
       "      <th>region_id</th>\n",
       "      <th>cloud_id</th>\n",
       "      <th>droplet_image</th>\n",
       "    </tr>\n",
       "  </thead>\n",
       "  <tbody>\n",
       "    <tr>\n",
       "      <th>0</th>\n",
       "      <td>digitalocean_droplet</td>\n",
       "      <td>289061882</td>\n",
       "      <td>{'k8s': '', 'k8s:worker': '', 'k8s:9a3ac2b5-3e...</td>\n",
       "      <td>analytics-u1wtj</td>\n",
       "      <td>2022-03-03 09:20:38+00:00</td>\n",
       "      <td>2</td>\n",
       "      <td>8192</td>\n",
       "      <td></td>\n",
       "      <td>running</td>\n",
       "      <td>do:droplet:289061882</td>\n",
       "      <td>[]</td>\n",
       "      <td>False</td>\n",
       "      <td>[droplet_agent, private_networking]</td>\n",
       "      <td>1mo28d</td>\n",
       "      <td>10225075</td>\n",
       "      <td>ams3</td>\n",
       "      <td>do</td>\n",
       "      <td>NaN</td>\n",
       "    </tr>\n",
       "    <tr>\n",
       "      <th>1</th>\n",
       "      <td>digitalocean_droplet</td>\n",
       "      <td>289061881</td>\n",
       "      <td>{'k8s': '', 'k8s:worker': '', 'k8s:9a3ac2b5-3e...</td>\n",
       "      <td>analytics-u1wto</td>\n",
       "      <td>2022-03-03 09:20:38+00:00</td>\n",
       "      <td>2</td>\n",
       "      <td>8192</td>\n",
       "      <td></td>\n",
       "      <td>running</td>\n",
       "      <td>do:droplet:289061881</td>\n",
       "      <td>[]</td>\n",
       "      <td>False</td>\n",
       "      <td>[droplet_agent, private_networking]</td>\n",
       "      <td>1mo28d</td>\n",
       "      <td>10225075</td>\n",
       "      <td>ams3</td>\n",
       "      <td>do</td>\n",
       "      <td>NaN</td>\n",
       "    </tr>\n",
       "    <tr>\n",
       "      <th>2</th>\n",
       "      <td>digitalocean_droplet</td>\n",
       "      <td>289061880</td>\n",
       "      <td>{'k8s': '', 'k8s:worker': '', 'k8s:9a3ac2b5-3e...</td>\n",
       "      <td>analytics-u1wtx</td>\n",
       "      <td>2022-03-03 09:20:38+00:00</td>\n",
       "      <td>2</td>\n",
       "      <td>8192</td>\n",
       "      <td></td>\n",
       "      <td>running</td>\n",
       "      <td>do:droplet:289061880</td>\n",
       "      <td>[]</td>\n",
       "      <td>False</td>\n",
       "      <td>[droplet_agent, private_networking]</td>\n",
       "      <td>1mo28d</td>\n",
       "      <td>10225075</td>\n",
       "      <td>ams3</td>\n",
       "      <td>do</td>\n",
       "      <td>NaN</td>\n",
       "    </tr>\n",
       "    <tr>\n",
       "      <th>3</th>\n",
       "      <td>digitalocean_droplet</td>\n",
       "      <td>294614226</td>\n",
       "      <td>{'k8s': '', 'k8s:worker': '', 'k8s:31e9afd3-a8...</td>\n",
       "      <td>helm2-cmxu6</td>\n",
       "      <td>2022-04-09 15:07:11+00:00</td>\n",
       "      <td>2</td>\n",
       "      <td>4096</td>\n",
       "      <td></td>\n",
       "      <td>running</td>\n",
       "      <td>do:droplet:294614226</td>\n",
       "      <td>[]</td>\n",
       "      <td>False</td>\n",
       "      <td>[private_networking]</td>\n",
       "      <td>22d17h</td>\n",
       "      <td>10225075</td>\n",
       "      <td>fra1</td>\n",
       "      <td>do</td>\n",
       "      <td>NaN</td>\n",
       "    </tr>\n",
       "    <tr>\n",
       "      <th>4</th>\n",
       "      <td>digitalocean_droplet</td>\n",
       "      <td>294614223</td>\n",
       "      <td>{'k8s': '', 'k8s:worker': '', 'k8s:31e9afd3-a8...</td>\n",
       "      <td>helm2-cmxul</td>\n",
       "      <td>2022-04-09 15:07:10+00:00</td>\n",
       "      <td>2</td>\n",
       "      <td>4096</td>\n",
       "      <td></td>\n",
       "      <td>running</td>\n",
       "      <td>do:droplet:294614223</td>\n",
       "      <td>[]</td>\n",
       "      <td>False</td>\n",
       "      <td>[private_networking]</td>\n",
       "      <td>22d17h</td>\n",
       "      <td>10225075</td>\n",
       "      <td>fra1</td>\n",
       "      <td>do</td>\n",
       "      <td>NaN</td>\n",
       "    </tr>\n",
       "    <tr>\n",
       "      <th>5</th>\n",
       "      <td>digitalocean_droplet</td>\n",
       "      <td>294614225</td>\n",
       "      <td>{'k8s': '', 'k8s:worker': '', 'k8s:31e9afd3-a8...</td>\n",
       "      <td>helm2-cmxut</td>\n",
       "      <td>2022-04-09 15:07:10+00:00</td>\n",
       "      <td>2</td>\n",
       "      <td>4096</td>\n",
       "      <td></td>\n",
       "      <td>running</td>\n",
       "      <td>do:droplet:294614225</td>\n",
       "      <td>[]</td>\n",
       "      <td>False</td>\n",
       "      <td>[private_networking]</td>\n",
       "      <td>22d17h</td>\n",
       "      <td>10225075</td>\n",
       "      <td>fra1</td>\n",
       "      <td>do</td>\n",
       "      <td>NaN</td>\n",
       "    </tr>\n",
       "    <tr>\n",
       "      <th>6</th>\n",
       "      <td>digitalocean_droplet</td>\n",
       "      <td>291923577</td>\n",
       "      <td>{}</td>\n",
       "      <td>ubuntu-s-1vcpu-1gb-ams3-01</td>\n",
       "      <td>2022-03-23 12:50:45+00:00</td>\n",
       "      <td>1</td>\n",
       "      <td>1024</td>\n",
       "      <td></td>\n",
       "      <td>unknown</td>\n",
       "      <td>do:droplet:291923577</td>\n",
       "      <td>[]</td>\n",
       "      <td>False</td>\n",
       "      <td>[droplet_agent, private_networking]</td>\n",
       "      <td>1mo8d</td>\n",
       "      <td>10923436</td>\n",
       "      <td>ams3</td>\n",
       "      <td>do</td>\n",
       "      <td>ubuntu-20-04-x64</td>\n",
       "    </tr>\n",
       "  </tbody>\n",
       "</table>\n",
       "</div>"
      ],
      "text/plain": [
       "                   kind         id  \\\n",
       "0  digitalocean_droplet  289061882   \n",
       "1  digitalocean_droplet  289061881   \n",
       "2  digitalocean_droplet  289061880   \n",
       "3  digitalocean_droplet  294614226   \n",
       "4  digitalocean_droplet  294614223   \n",
       "5  digitalocean_droplet  294614225   \n",
       "6  digitalocean_droplet  291923577   \n",
       "\n",
       "                                                tags  \\\n",
       "0  {'k8s': '', 'k8s:worker': '', 'k8s:9a3ac2b5-3e...   \n",
       "1  {'k8s': '', 'k8s:worker': '', 'k8s:9a3ac2b5-3e...   \n",
       "2  {'k8s': '', 'k8s:worker': '', 'k8s:9a3ac2b5-3e...   \n",
       "3  {'k8s': '', 'k8s:worker': '', 'k8s:31e9afd3-a8...   \n",
       "4  {'k8s': '', 'k8s:worker': '', 'k8s:31e9afd3-a8...   \n",
       "5  {'k8s': '', 'k8s:worker': '', 'k8s:31e9afd3-a8...   \n",
       "6                                                 {}   \n",
       "\n",
       "                         name                     ctime  instance_cores  \\\n",
       "0             analytics-u1wtj 2022-03-03 09:20:38+00:00               2   \n",
       "1             analytics-u1wto 2022-03-03 09:20:38+00:00               2   \n",
       "2             analytics-u1wtx 2022-03-03 09:20:38+00:00               2   \n",
       "3                 helm2-cmxu6 2022-04-09 15:07:11+00:00               2   \n",
       "4                 helm2-cmxul 2022-04-09 15:07:10+00:00               2   \n",
       "5                 helm2-cmxut 2022-04-09 15:07:10+00:00               2   \n",
       "6  ubuntu-s-1vcpu-1gb-ams3-01 2022-03-23 12:50:45+00:00               1   \n",
       "\n",
       "   instance_memory instance_type instance_status                   urn  \\\n",
       "0             8192                       running  do:droplet:289061882   \n",
       "1             8192                       running  do:droplet:289061881   \n",
       "2             8192                       running  do:droplet:289061880   \n",
       "3             4096                       running  do:droplet:294614226   \n",
       "4             4096                       running  do:droplet:294614223   \n",
       "5             4096                       running  do:droplet:294614225   \n",
       "6             1024                       unknown  do:droplet:291923577   \n",
       "\n",
       "  droplet_backup_ids  is_locked                     droplet_features     age  \\\n",
       "0                 []      False  [droplet_agent, private_networking]  1mo28d   \n",
       "1                 []      False  [droplet_agent, private_networking]  1mo28d   \n",
       "2                 []      False  [droplet_agent, private_networking]  1mo28d   \n",
       "3                 []      False                 [private_networking]  22d17h   \n",
       "4                 []      False                 [private_networking]  22d17h   \n",
       "5                 []      False                 [private_networking]  22d17h   \n",
       "6                 []      False  [droplet_agent, private_networking]   1mo8d   \n",
       "\n",
       "  account_id region_id cloud_id     droplet_image  \n",
       "0   10225075      ams3       do               NaN  \n",
       "1   10225075      ams3       do               NaN  \n",
       "2   10225075      ams3       do               NaN  \n",
       "3   10225075      fra1       do               NaN  \n",
       "4   10225075      fra1       do               NaN  \n",
       "5   10225075      fra1       do               NaN  \n",
       "6   10923436      ams3       do  ubuntu-20-04-x64  "
      ]
     },
     "execution_count": 10,
     "metadata": {},
     "output_type": "execute_result"
    }
   ],
   "source": [
    "rnb.cli_execute(\"search is(digitalocean_droplet)\")"
   ]
  },
  {
   "cell_type": "markdown",
   "metadata": {},
   "source": [
    "### Visualization\n",
    "\n",
    "Render the acounts as an svg graph:"
   ]
  },
  {
   "cell_type": "code",
   "execution_count": 11,
   "metadata": {},
   "outputs": [],
   "source": [
    "from IPython.display import display_png as render_png, display_svg as render_svg"
   ]
  },
  {
   "cell_type": "code",
   "execution_count": 12,
   "metadata": {},
   "outputs": [
    {
     "data": {
      "image/svg+xml": "<?xml version=\"1.0\" encoding=\"UTF-8\" standalone=\"no\"?>\n<!DOCTYPE svg PUBLIC \"-//W3C//DTD SVG 1.1//EN\"\n \"http://www.w3.org/Graphics/SVG/1.1/DTD/svg11.dtd\">\n<!-- Generated by graphviz version 3.0.0 (20220226.1711)\n -->\n<!-- Pages: 1 -->\n<svg width=\"250pt\" height=\"254pt\"\n viewBox=\"0.00 0.00 250.00 254.00\" xmlns=\"http://www.w3.org/2000/svg\" xmlns:xlink=\"http://www.w3.org/1999/xlink\">\n<g id=\"graph0\" class=\"graph\" transform=\"scale(1 1) rotate(0) translate(4 250)\">\n<polygon fill=\"white\" stroke=\"transparent\" points=\"-4,4 -4,-250 246,-250 246,4 -4,4\"/>\n<!-- WYcfqyMIkPAPoAHiEIIKOw -->\n<g id=\"node1\" class=\"node\">\n<title>WYcfqyMIkPAPoAHiEIIKOw</title>\n<polyline fill=\"none\" stroke=\"#a6cee3\" points=\"95.5,-177.5 138.5,-177.5 \"/>\n<text text-anchor=\"start\" x=\"101.5\" y=\"-187.3\" font-family=\"Times,serif\" font-size=\"14.00\">cloud</text>\n<polyline fill=\"none\" stroke=\"#a6cee3\" points=\"95.5,-148.5 138.5,-148.5 \"/>\n<text text-anchor=\"start\" x=\"106\" y=\"-158.3\" font-family=\"Times,serif\" font-size=\"14.00\">aws</text>\n<text text-anchor=\"start\" x=\"106\" y=\"-130.3\" font-family=\"Times,serif\" font-size=\"14.00\">aws</text>\n<path fill=\"none\" stroke=\"#a6cee3\" stroke-width=\"3\" d=\"M103.5,-118.5C103.5,-118.5 129.5,-118.5 129.5,-118.5 135.5,-118.5 141.5,-124.5 141.5,-130.5 141.5,-130.5 141.5,-196.5 141.5,-196.5 141.5,-202.5 135.5,-208.5 129.5,-208.5 129.5,-208.5 103.5,-208.5 103.5,-208.5 97.5,-208.5 91.5,-202.5 91.5,-196.5 91.5,-196.5 91.5,-130.5 91.5,-130.5 91.5,-124.5 97.5,-118.5 103.5,-118.5\"/>\n</g>\n<!-- B_3pMlNXTPhgC_XRZFjZag -->\n<g id=\"node2\" class=\"node\">\n<title>B_3pMlNXTPhgC_XRZFjZag</title>\n<polyline fill=\"none\" stroke=\"#a6cee3\" points=\"194.5,-186.5 237.5,-186.5 \"/>\n<text text-anchor=\"start\" x=\"200.5\" y=\"-196.3\" font-family=\"Times,serif\" font-size=\"14.00\">cloud</text>\n<polyline fill=\"none\" stroke=\"#a6cee3\" points=\"194.5,-157.5 237.5,-157.5 \"/>\n<text text-anchor=\"start\" x=\"209\" y=\"-167.3\" font-family=\"Times,serif\" font-size=\"14.00\">do</text>\n<text text-anchor=\"start\" x=\"209\" y=\"-139.3\" font-family=\"Times,serif\" font-size=\"14.00\">do</text>\n<path fill=\"none\" stroke=\"#a6cee3\" stroke-width=\"3\" d=\"M202.5,-127.5C202.5,-127.5 228.5,-127.5 228.5,-127.5 234.5,-127.5 240.5,-133.5 240.5,-139.5 240.5,-139.5 240.5,-205.5 240.5,-205.5 240.5,-211.5 234.5,-217.5 228.5,-217.5 228.5,-217.5 202.5,-217.5 202.5,-217.5 196.5,-217.5 190.5,-211.5 190.5,-205.5 190.5,-205.5 190.5,-139.5 190.5,-139.5 190.5,-133.5 196.5,-127.5 202.5,-127.5\"/>\n</g>\n<!-- pvtny3o5u2xNhPJ6aKdbow -->\n<g id=\"node3\" class=\"node\">\n<title>pvtny3o5u2xNhPJ6aKdbow</title>\n<polyline fill=\"none\" stroke=\"#a6cee3\" points=\"77.5,-60.5 136.5,-60.5 \"/>\n<text text-anchor=\"start\" x=\"91.5\" y=\"-70.3\" font-family=\"Times,serif\" font-size=\"14.00\">cloud</text>\n<polyline fill=\"none\" stroke=\"#a6cee3\" points=\"77.5,-31.5 136.5,-31.5 \"/>\n<text text-anchor=\"start\" x=\"83.5\" y=\"-41.3\" font-family=\"Times,serif\" font-size=\"14.00\">example</text>\n<text text-anchor=\"start\" x=\"83.5\" y=\"-13.3\" font-family=\"Times,serif\" font-size=\"14.00\">example</text>\n<path fill=\"none\" stroke=\"#a6cee3\" stroke-width=\"3\" d=\"M85.5,-1.5C85.5,-1.5 127.5,-1.5 127.5,-1.5 133.5,-1.5 139.5,-7.5 139.5,-13.5 139.5,-13.5 139.5,-79.5 139.5,-79.5 139.5,-85.5 133.5,-91.5 127.5,-91.5 127.5,-91.5 85.5,-91.5 85.5,-91.5 79.5,-91.5 73.5,-85.5 73.5,-79.5 73.5,-79.5 73.5,-13.5 73.5,-13.5 73.5,-7.5 79.5,-1.5 85.5,-1.5\"/>\n</g>\n<!-- L_tRxI2tn6iLZdK3e8EQ3w -->\n<g id=\"node4\" class=\"node\">\n<title>L_tRxI2tn6iLZdK3e8EQ3w</title>\n<polyline fill=\"none\" stroke=\"#a6cee3\" points=\"23.5,-213.5 66.5,-213.5 \"/>\n<text text-anchor=\"start\" x=\"29.5\" y=\"-223.3\" font-family=\"Times,serif\" font-size=\"14.00\">cloud</text>\n<polyline fill=\"none\" stroke=\"#a6cee3\" points=\"23.5,-184.5 66.5,-184.5 \"/>\n<text text-anchor=\"start\" x=\"35\" y=\"-194.3\" font-family=\"Times,serif\" font-size=\"14.00\">gcp</text>\n<text text-anchor=\"start\" x=\"35\" y=\"-166.3\" font-family=\"Times,serif\" font-size=\"14.00\">gcp</text>\n<path fill=\"none\" stroke=\"#a6cee3\" stroke-width=\"3\" d=\"M31.5,-154.5C31.5,-154.5 57.5,-154.5 57.5,-154.5 63.5,-154.5 69.5,-160.5 69.5,-166.5 69.5,-166.5 69.5,-232.5 69.5,-232.5 69.5,-238.5 63.5,-244.5 57.5,-244.5 57.5,-244.5 31.5,-244.5 31.5,-244.5 25.5,-244.5 19.5,-238.5 19.5,-232.5 19.5,-232.5 19.5,-166.5 19.5,-166.5 19.5,-160.5 25.5,-154.5 31.5,-154.5\"/>\n</g>\n<!-- 2RZlTX9yzeBwTNT_H1KZVA -->\n<g id=\"node5\" class=\"node\">\n<title>2RZlTX9yzeBwTNT_H1KZVA</title>\n<polyline fill=\"none\" stroke=\"#a6cee3\" points=\"167,-69.5 227,-69.5 \"/>\n<text text-anchor=\"start\" x=\"181.5\" y=\"-79.3\" font-family=\"Times,serif\" font-size=\"14.00\">cloud</text>\n<polyline fill=\"none\" stroke=\"#a6cee3\" points=\"167,-40.5 227,-40.5 \"/>\n<text text-anchor=\"start\" x=\"173\" y=\"-50.3\" font-family=\"Times,serif\" font-size=\"14.00\">onelogin</text>\n<text text-anchor=\"start\" x=\"173\" y=\"-22.3\" font-family=\"Times,serif\" font-size=\"14.00\">onelogin</text>\n<path fill=\"none\" stroke=\"#a6cee3\" stroke-width=\"3\" d=\"M175.5,-10.5C175.5,-10.5 218.5,-10.5 218.5,-10.5 224.5,-10.5 230.5,-16.5 230.5,-22.5 230.5,-22.5 230.5,-88.5 230.5,-88.5 230.5,-94.5 224.5,-100.5 218.5,-100.5 218.5,-100.5 175.5,-100.5 175.5,-100.5 169.5,-100.5 163.5,-94.5 163.5,-88.5 163.5,-88.5 163.5,-22.5 163.5,-22.5 163.5,-16.5 169.5,-10.5 175.5,-10.5\"/>\n</g>\n<!-- P8N2J8xvGJiuQnRbEI2wtQ -->\n<g id=\"node6\" class=\"node\">\n<title>P8N2J8xvGJiuQnRbEI2wtQ</title>\n<polyline fill=\"none\" stroke=\"#a6cee3\" points=\"5.5,-96.5 48.5,-96.5 \"/>\n<text text-anchor=\"start\" x=\"11.5\" y=\"-106.3\" font-family=\"Times,serif\" font-size=\"14.00\">cloud</text>\n<polyline fill=\"none\" stroke=\"#a6cee3\" points=\"5.5,-67.5 48.5,-67.5 \"/>\n<text text-anchor=\"start\" x=\"13\" y=\"-77.3\" font-family=\"Times,serif\" font-size=\"14.00\">slack</text>\n<text text-anchor=\"start\" x=\"13\" y=\"-49.3\" font-family=\"Times,serif\" font-size=\"14.00\">slack</text>\n<path fill=\"none\" stroke=\"#a6cee3\" stroke-width=\"3\" d=\"M13.5,-37.5C13.5,-37.5 39.5,-37.5 39.5,-37.5 45.5,-37.5 51.5,-43.5 51.5,-49.5 51.5,-49.5 51.5,-115.5 51.5,-115.5 51.5,-121.5 45.5,-127.5 39.5,-127.5 39.5,-127.5 13.5,-127.5 13.5,-127.5 7.5,-127.5 1.5,-121.5 1.5,-115.5 1.5,-115.5 1.5,-49.5 1.5,-49.5 1.5,-43.5 7.5,-37.5 13.5,-37.5\"/>\n</g>\n</g>\n</svg>\n"
     },
     "metadata": {},
     "output_type": "display_data"
    }
   ],
   "source": [
    "render_svg(rnb.graph(\"is(cloud)\"))"
   ]
  },
  {
   "cell_type": "markdown",
   "metadata": {},
   "source": [
    "Make a graph of all clouds with name do and their successors one level deep and render it as a PNG image:"
   ]
  },
  {
   "cell_type": "code",
   "execution_count": 13,
   "metadata": {},
   "outputs": [
    {
     "data": {
      "image/png": "[encoded data removed]"
     },
     "metadata": {},
     "output_type": "display_data"
    }
   ],
   "source": [
    "render_png(rnb.graph(\"is(cloud) and name=do <-[0:1]->\"))"
   ]
  },
  {
   "cell_type": "markdown",
   "metadata": {},
   "source": [
    "Show the instances/cores/creation time heatmap:"
   ]
  },
  {
   "cell_type": "code",
   "execution_count": 51,
   "metadata": {},
   "outputs": [
    {
     "data": {
      "application/vnd.plotly.v1+json": {
       "config": {
        "plotlyServerURL": "https://plot.ly"
       },
       "data": [
        {
         "coloraxis": "coloraxis",
         "hovertemplate": "account_id=%{x}<br>instance_cores=%{y}<br>count=%{z}<extra></extra>",
         "name": "",
         "type": "histogram2d",
         "x": [
          "084be94e8a259208d102798a98aeb57c",
          "da6755f01a7c2d08a186e4df3bd8f289",
          "084be94e8a259208d102798a98aeb57c",
          "da6755f01a7c2d08a186e4df3bd8f289",
          "438eba971918b01c3b5e8054f24d6534",
          "438eba971918b01c3b5e8054f24d6534",
          "438eba971918b01c3b5e8054f24d6534",
          "fe687f08409ddd732ca044630e88eefb",
          "438eba971918b01c3b5e8054f24d6534",
          "438eba971918b01c3b5e8054f24d6534",
          "438eba971918b01c3b5e8054f24d6534",
          "da6755f01a7c2d08a186e4df3bd8f289",
          "335e3c826c3cbbb3bea7acfdea756538",
          "084be94e8a259208d102798a98aeb57c",
          "da6755f01a7c2d08a186e4df3bd8f289",
          "084be94e8a259208d102798a98aeb57c",
          "084be94e8a259208d102798a98aeb57c",
          "da6755f01a7c2d08a186e4df3bd8f289",
          "084be94e8a259208d102798a98aeb57c",
          "89b8ff2cfc7e4f3ef88c6bb1320d04b2",
          "a70f2462131a0b72471f06cb543ce62f",
          "fd5dc765d48bf20a75c2c7975f89c2e3",
          "bd3d8a4c8960c173a86f1c68a69221d3",
          "81fd08a006c076bf5fef0d5318a0e1d6",
          "89b8ff2cfc7e4f3ef88c6bb1320d04b2",
          "d6051ff4a24a1f46bad8abf940c505d0",
          "fd5dc765d48bf20a75c2c7975f89c2e3",
          "a70f2462131a0b72471f06cb543ce62f",
          "a70f2462131a0b72471f06cb543ce62f",
          "a70f2462131a0b72471f06cb543ce62f",
          "d6051ff4a24a1f46bad8abf940c505d0",
          "a70f2462131a0b72471f06cb543ce62f",
          "a13817de4a0df14757a32651c770b079",
          "bd3d8a4c8960c173a86f1c68a69221d3",
          "89b8ff2cfc7e4f3ef88c6bb1320d04b2",
          "a13817de4a0df14757a32651c770b079",
          "fd5dc765d48bf20a75c2c7975f89c2e3",
          "d9c68be10f1be9597357c524a08d3ce3",
          "bd3d8a4c8960c173a86f1c68a69221d3",
          "a13817de4a0df14757a32651c770b079",
          "fd5dc765d48bf20a75c2c7975f89c2e3",
          "bd3d8a4c8960c173a86f1c68a69221d3",
          "89b8ff2cfc7e4f3ef88c6bb1320d04b2",
          "ed7b4aa18117a57163ba3fb5508ce388",
          "81fd08a006c076bf5fef0d5318a0e1d6",
          "a70f2462131a0b72471f06cb543ce62f",
          "530ed0564e513c18dcc0bf346e61c2a6",
          "a70f2462131a0b72471f06cb543ce62f",
          "d6051ff4a24a1f46bad8abf940c505d0",
          "f1c758e0870e59505963dbc15dd19b83",
          "a70f2462131a0b72471f06cb543ce62f",
          "d9c68be10f1be9597357c524a08d3ce3",
          "bd3d8a4c8960c173a86f1c68a69221d3",
          "bd3d8a4c8960c173a86f1c68a69221d3",
          "bd3d8a4c8960c173a86f1c68a69221d3",
          "530ed0564e513c18dcc0bf346e61c2a6",
          "f1c758e0870e59505963dbc15dd19b83",
          "a70f2462131a0b72471f06cb543ce62f",
          "bd3d8a4c8960c173a86f1c68a69221d3",
          "a70f2462131a0b72471f06cb543ce62f",
          "81fd08a006c076bf5fef0d5318a0e1d6",
          "a70f2462131a0b72471f06cb543ce62f",
          "bd3d8a4c8960c173a86f1c68a69221d3",
          "bd3d8a4c8960c173a86f1c68a69221d3",
          "a13817de4a0df14757a32651c770b079",
          "a13817de4a0df14757a32651c770b079",
          "a70f2462131a0b72471f06cb543ce62f",
          "bd3d8a4c8960c173a86f1c68a69221d3",
          "89b8ff2cfc7e4f3ef88c6bb1320d04b2",
          "51a788459deb58758341feed5d7011b4",
          "a13817de4a0df14757a32651c770b079",
          "d6051ff4a24a1f46bad8abf940c505d0",
          "a70f2462131a0b72471f06cb543ce62f",
          "a70f2462131a0b72471f06cb543ce62f",
          "d6051ff4a24a1f46bad8abf940c505d0",
          "d6051ff4a24a1f46bad8abf940c505d0",
          "d6051ff4a24a1f46bad8abf940c505d0",
          "28a417505e77a6b2c0a1fd1f49d898c9",
          "a70f2462131a0b72471f06cb543ce62f",
          "a70f2462131a0b72471f06cb543ce62f",
          "81fd08a006c076bf5fef0d5318a0e1d6",
          "89b8ff2cfc7e4f3ef88c6bb1320d04b2",
          "81fd08a006c076bf5fef0d5318a0e1d6",
          "a70f2462131a0b72471f06cb543ce62f",
          "a70f2462131a0b72471f06cb543ce62f",
          "81fd08a006c076bf5fef0d5318a0e1d6",
          "a70f2462131a0b72471f06cb543ce62f",
          "a70f2462131a0b72471f06cb543ce62f",
          "bd3d8a4c8960c173a86f1c68a69221d3",
          "51a788459deb58758341feed5d7011b4",
          "a70f2462131a0b72471f06cb543ce62f",
          "a13817de4a0df14757a32651c770b079",
          "fd5dc765d48bf20a75c2c7975f89c2e3",
          "a70f2462131a0b72471f06cb543ce62f",
          "d9c68be10f1be9597357c524a08d3ce3",
          "81fd08a006c076bf5fef0d5318a0e1d6",
          "d6051ff4a24a1f46bad8abf940c505d0",
          "a13817de4a0df14757a32651c770b079",
          "89b8ff2cfc7e4f3ef88c6bb1320d04b2",
          "81fd08a006c076bf5fef0d5318a0e1d6",
          "89b8ff2cfc7e4f3ef88c6bb1320d04b2",
          "89b8ff2cfc7e4f3ef88c6bb1320d04b2",
          "fd5dc765d48bf20a75c2c7975f89c2e3",
          "d6051ff4a24a1f46bad8abf940c505d0",
          "a70f2462131a0b72471f06cb543ce62f",
          "51a788459deb58758341feed5d7011b4",
          "89b8ff2cfc7e4f3ef88c6bb1320d04b2",
          "a13817de4a0df14757a32651c770b079",
          "bd3d8a4c8960c173a86f1c68a69221d3",
          "bd3d8a4c8960c173a86f1c68a69221d3",
          "a70f2462131a0b72471f06cb543ce62f",
          "d6051ff4a24a1f46bad8abf940c505d0",
          "a13817de4a0df14757a32651c770b079",
          "fd5dc765d48bf20a75c2c7975f89c2e3",
          "51a788459deb58758341feed5d7011b4",
          "530ed0564e513c18dcc0bf346e61c2a6",
          "51a788459deb58758341feed5d7011b4",
          "81fd08a006c076bf5fef0d5318a0e1d6",
          "a70f2462131a0b72471f06cb543ce62f",
          "a70f2462131a0b72471f06cb543ce62f",
          "28a417505e77a6b2c0a1fd1f49d898c9",
          "d6051ff4a24a1f46bad8abf940c505d0",
          "fd5dc765d48bf20a75c2c7975f89c2e3",
          "a70f2462131a0b72471f06cb543ce62f",
          "827c6f5e8dd31f9338fa8d9545316c46",
          "a13817de4a0df14757a32651c770b079",
          "28a417505e77a6b2c0a1fd1f49d898c9",
          "fd5dc765d48bf20a75c2c7975f89c2e3",
          "81fd08a006c076bf5fef0d5318a0e1d6",
          "6bc2cbb04dfd27d2c7a597680c13dc81",
          "a70f2462131a0b72471f06cb543ce62f",
          "bd3d8a4c8960c173a86f1c68a69221d3",
          "a70f2462131a0b72471f06cb543ce62f",
          "28a417505e77a6b2c0a1fd1f49d898c9",
          "a70f2462131a0b72471f06cb543ce62f",
          "a70f2462131a0b72471f06cb543ce62f",
          "a70f2462131a0b72471f06cb543ce62f",
          "a13817de4a0df14757a32651c770b079",
          "fd5dc765d48bf20a75c2c7975f89c2e3",
          "bd3d8a4c8960c173a86f1c68a69221d3",
          "a13817de4a0df14757a32651c770b079",
          "a70f2462131a0b72471f06cb543ce62f",
          "51a788459deb58758341feed5d7011b4",
          "bd3d8a4c8960c173a86f1c68a69221d3",
          "d6051ff4a24a1f46bad8abf940c505d0",
          "a70f2462131a0b72471f06cb543ce62f",
          "a13817de4a0df14757a32651c770b079",
          "a13817de4a0df14757a32651c770b079",
          "81fd08a006c076bf5fef0d5318a0e1d6",
          "bd3d8a4c8960c173a86f1c68a69221d3",
          "a13817de4a0df14757a32651c770b079",
          "a13817de4a0df14757a32651c770b079",
          "a70f2462131a0b72471f06cb543ce62f",
          "a70f2462131a0b72471f06cb543ce62f",
          "a70f2462131a0b72471f06cb543ce62f",
          "bd3d8a4c8960c173a86f1c68a69221d3",
          "fd5dc765d48bf20a75c2c7975f89c2e3",
          "a70f2462131a0b72471f06cb543ce62f",
          "28a417505e77a6b2c0a1fd1f49d898c9",
          "89b8ff2cfc7e4f3ef88c6bb1320d04b2",
          "a70f2462131a0b72471f06cb543ce62f",
          "bd3d8a4c8960c173a86f1c68a69221d3",
          "fd5dc765d48bf20a75c2c7975f89c2e3",
          "28a417505e77a6b2c0a1fd1f49d898c9",
          "fd5dc765d48bf20a75c2c7975f89c2e3",
          "81fd08a006c076bf5fef0d5318a0e1d6",
          "28a417505e77a6b2c0a1fd1f49d898c9",
          "81fd08a006c076bf5fef0d5318a0e1d6",
          "a70f2462131a0b72471f06cb543ce62f",
          "28a417505e77a6b2c0a1fd1f49d898c9",
          "81fd08a006c076bf5fef0d5318a0e1d6",
          "bd3d8a4c8960c173a86f1c68a69221d3",
          "d9c68be10f1be9597357c524a08d3ce3",
          "51a788459deb58758341feed5d7011b4",
          "a70f2462131a0b72471f06cb543ce62f",
          "a13817de4a0df14757a32651c770b079",
          "a70f2462131a0b72471f06cb543ce62f",
          "a70f2462131a0b72471f06cb543ce62f",
          "bd3d8a4c8960c173a86f1c68a69221d3",
          "bd3d8a4c8960c173a86f1c68a69221d3",
          "a70f2462131a0b72471f06cb543ce62f",
          "51a788459deb58758341feed5d7011b4",
          "a70f2462131a0b72471f06cb543ce62f",
          "d6051ff4a24a1f46bad8abf940c505d0",
          "fd5dc765d48bf20a75c2c7975f89c2e3",
          "bd3d8a4c8960c173a86f1c68a69221d3",
          "89b8ff2cfc7e4f3ef88c6bb1320d04b2",
          "81fd08a006c076bf5fef0d5318a0e1d6",
          "bd3d8a4c8960c173a86f1c68a69221d3",
          "bd3d8a4c8960c173a86f1c68a69221d3",
          "bd3d8a4c8960c173a86f1c68a69221d3",
          "a70f2462131a0b72471f06cb543ce62f",
          "a70f2462131a0b72471f06cb543ce62f",
          "92ca5eb6f675291e3c44d39f6cfd66ec",
          "f1c758e0870e59505963dbc15dd19b83",
          "89b8ff2cfc7e4f3ef88c6bb1320d04b2",
          "81fd08a006c076bf5fef0d5318a0e1d6",
          "a70f2462131a0b72471f06cb543ce62f",
          "530ed0564e513c18dcc0bf346e61c2a6",
          "a13817de4a0df14757a32651c770b079",
          "a13817de4a0df14757a32651c770b079",
          "89b8ff2cfc7e4f3ef88c6bb1320d04b2",
          "89b8ff2cfc7e4f3ef88c6bb1320d04b2",
          "a70f2462131a0b72471f06cb543ce62f",
          "d6051ff4a24a1f46bad8abf940c505d0",
          "a70f2462131a0b72471f06cb543ce62f",
          "ed7b4aa18117a57163ba3fb5508ce388",
          "81fd08a006c076bf5fef0d5318a0e1d6",
          "bd3d8a4c8960c173a86f1c68a69221d3",
          "a70f2462131a0b72471f06cb543ce62f",
          "a70f2462131a0b72471f06cb543ce62f",
          "fd5dc765d48bf20a75c2c7975f89c2e3",
          "a70f2462131a0b72471f06cb543ce62f",
          "a70f2462131a0b72471f06cb543ce62f",
          "fd5dc765d48bf20a75c2c7975f89c2e3",
          "a70f2462131a0b72471f06cb543ce62f",
          "81fd08a006c076bf5fef0d5318a0e1d6",
          "fd5dc765d48bf20a75c2c7975f89c2e3",
          "81fd08a006c076bf5fef0d5318a0e1d6",
          "fd5dc765d48bf20a75c2c7975f89c2e3",
          "d6051ff4a24a1f46bad8abf940c505d0",
          "bd3d8a4c8960c173a86f1c68a69221d3",
          "81fd08a006c076bf5fef0d5318a0e1d6",
          "51a788459deb58758341feed5d7011b4",
          "51a788459deb58758341feed5d7011b4",
          "a13817de4a0df14757a32651c770b079",
          "fd5dc765d48bf20a75c2c7975f89c2e3",
          "d6051ff4a24a1f46bad8abf940c505d0",
          "827c6f5e8dd31f9338fa8d9545316c46",
          "a70f2462131a0b72471f06cb543ce62f",
          "89b8ff2cfc7e4f3ef88c6bb1320d04b2",
          "a70f2462131a0b72471f06cb543ce62f",
          "d6051ff4a24a1f46bad8abf940c505d0",
          "827c6f5e8dd31f9338fa8d9545316c46",
          "bd3d8a4c8960c173a86f1c68a69221d3",
          "89b8ff2cfc7e4f3ef88c6bb1320d04b2",
          "81fd08a006c076bf5fef0d5318a0e1d6",
          "51a788459deb58758341feed5d7011b4",
          "89b8ff2cfc7e4f3ef88c6bb1320d04b2",
          "a70f2462131a0b72471f06cb543ce62f",
          "51a788459deb58758341feed5d7011b4",
          "a70f2462131a0b72471f06cb543ce62f",
          "fd5dc765d48bf20a75c2c7975f89c2e3",
          "a70f2462131a0b72471f06cb543ce62f",
          "81fd08a006c076bf5fef0d5318a0e1d6",
          "a70f2462131a0b72471f06cb543ce62f",
          "fd5dc765d48bf20a75c2c7975f89c2e3",
          "81fd08a006c076bf5fef0d5318a0e1d6",
          "81fd08a006c076bf5fef0d5318a0e1d6",
          "28a417505e77a6b2c0a1fd1f49d898c9",
          "51a788459deb58758341feed5d7011b4",
          "a13817de4a0df14757a32651c770b079",
          "a70f2462131a0b72471f06cb543ce62f",
          "bd3d8a4c8960c173a86f1c68a69221d3",
          "a70f2462131a0b72471f06cb543ce62f",
          "51a788459deb58758341feed5d7011b4",
          "a70f2462131a0b72471f06cb543ce62f",
          "f1c758e0870e59505963dbc15dd19b83",
          "bd3d8a4c8960c173a86f1c68a69221d3",
          "a70f2462131a0b72471f06cb543ce62f",
          "51a788459deb58758341feed5d7011b4",
          "a70f2462131a0b72471f06cb543ce62f",
          "d9c68be10f1be9597357c524a08d3ce3",
          "bd3d8a4c8960c173a86f1c68a69221d3",
          "a70f2462131a0b72471f06cb543ce62f",
          "bd3d8a4c8960c173a86f1c68a69221d3",
          "a70f2462131a0b72471f06cb543ce62f",
          "81fd08a006c076bf5fef0d5318a0e1d6",
          "89b8ff2cfc7e4f3ef88c6bb1320d04b2",
          "a70f2462131a0b72471f06cb543ce62f",
          "bd3d8a4c8960c173a86f1c68a69221d3",
          "fd5dc765d48bf20a75c2c7975f89c2e3",
          "89b8ff2cfc7e4f3ef88c6bb1320d04b2",
          "530ed0564e513c18dcc0bf346e61c2a6",
          "a13817de4a0df14757a32651c770b079",
          "fd5dc765d48bf20a75c2c7975f89c2e3",
          "a70f2462131a0b72471f06cb543ce62f",
          "bd3d8a4c8960c173a86f1c68a69221d3",
          "a70f2462131a0b72471f06cb543ce62f",
          "bd3d8a4c8960c173a86f1c68a69221d3",
          "bd3d8a4c8960c173a86f1c68a69221d3",
          "bd3d8a4c8960c173a86f1c68a69221d3",
          "d9c68be10f1be9597357c524a08d3ce3",
          "81fd08a006c076bf5fef0d5318a0e1d6",
          "28a417505e77a6b2c0a1fd1f49d898c9",
          "bd3d8a4c8960c173a86f1c68a69221d3",
          "89b8ff2cfc7e4f3ef88c6bb1320d04b2",
          "81fd08a006c076bf5fef0d5318a0e1d6",
          "89b8ff2cfc7e4f3ef88c6bb1320d04b2",
          "81fd08a006c076bf5fef0d5318a0e1d6",
          "51a788459deb58758341feed5d7011b4",
          "a13817de4a0df14757a32651c770b079",
          "d6051ff4a24a1f46bad8abf940c505d0",
          "81fd08a006c076bf5fef0d5318a0e1d6",
          "d6051ff4a24a1f46bad8abf940c505d0",
          "a70f2462131a0b72471f06cb543ce62f",
          "530ed0564e513c18dcc0bf346e61c2a6",
          "fd5dc765d48bf20a75c2c7975f89c2e3",
          "28a417505e77a6b2c0a1fd1f49d898c9",
          "a70f2462131a0b72471f06cb543ce62f",
          "fd5dc765d48bf20a75c2c7975f89c2e3",
          "89b8ff2cfc7e4f3ef88c6bb1320d04b2",
          "a13817de4a0df14757a32651c770b079",
          "89b8ff2cfc7e4f3ef88c6bb1320d04b2",
          "51a788459deb58758341feed5d7011b4",
          "a70f2462131a0b72471f06cb543ce62f",
          "a70f2462131a0b72471f06cb543ce62f",
          "fd5dc765d48bf20a75c2c7975f89c2e3",
          "bd3d8a4c8960c173a86f1c68a69221d3",
          "a70f2462131a0b72471f06cb543ce62f",
          "a13817de4a0df14757a32651c770b079",
          "d6051ff4a24a1f46bad8abf940c505d0",
          "fd5dc765d48bf20a75c2c7975f89c2e3",
          "a70f2462131a0b72471f06cb543ce62f",
          "bd3d8a4c8960c173a86f1c68a69221d3",
          "fd5dc765d48bf20a75c2c7975f89c2e3",
          "fd5dc765d48bf20a75c2c7975f89c2e3",
          "a70f2462131a0b72471f06cb543ce62f",
          "fd5dc765d48bf20a75c2c7975f89c2e3",
          "a70f2462131a0b72471f06cb543ce62f",
          "89b8ff2cfc7e4f3ef88c6bb1320d04b2",
          "d6051ff4a24a1f46bad8abf940c505d0",
          "89b8ff2cfc7e4f3ef88c6bb1320d04b2",
          "a70f2462131a0b72471f06cb543ce62f",
          "a70f2462131a0b72471f06cb543ce62f",
          "a13817de4a0df14757a32651c770b079",
          "81fd08a006c076bf5fef0d5318a0e1d6",
          "a70f2462131a0b72471f06cb543ce62f",
          "28a417505e77a6b2c0a1fd1f49d898c9",
          "a70f2462131a0b72471f06cb543ce62f",
          "51a788459deb58758341feed5d7011b4",
          "d6051ff4a24a1f46bad8abf940c505d0",
          "51a788459deb58758341feed5d7011b4",
          "89b8ff2cfc7e4f3ef88c6bb1320d04b2",
          "81fd08a006c076bf5fef0d5318a0e1d6",
          "fd5dc765d48bf20a75c2c7975f89c2e3",
          "bd3d8a4c8960c173a86f1c68a69221d3",
          "d6051ff4a24a1f46bad8abf940c505d0",
          "a70f2462131a0b72471f06cb543ce62f",
          "a70f2462131a0b72471f06cb543ce62f",
          "a13817de4a0df14757a32651c770b079",
          "a13817de4a0df14757a32651c770b079",
          "fd5dc765d48bf20a75c2c7975f89c2e3",
          "fd5dc765d48bf20a75c2c7975f89c2e3",
          "81fd08a006c076bf5fef0d5318a0e1d6",
          "bd3d8a4c8960c173a86f1c68a69221d3",
          "fd5dc765d48bf20a75c2c7975f89c2e3",
          "fd5dc765d48bf20a75c2c7975f89c2e3",
          "a70f2462131a0b72471f06cb543ce62f",
          "d6051ff4a24a1f46bad8abf940c505d0",
          "a70f2462131a0b72471f06cb543ce62f",
          "a70f2462131a0b72471f06cb543ce62f",
          "bd3d8a4c8960c173a86f1c68a69221d3",
          "a70f2462131a0b72471f06cb543ce62f",
          "d6051ff4a24a1f46bad8abf940c505d0",
          "d6051ff4a24a1f46bad8abf940c505d0",
          "a70f2462131a0b72471f06cb543ce62f",
          "a70f2462131a0b72471f06cb543ce62f",
          "81fd08a006c076bf5fef0d5318a0e1d6",
          "fd5dc765d48bf20a75c2c7975f89c2e3",
          "bd3d8a4c8960c173a86f1c68a69221d3",
          "a70f2462131a0b72471f06cb543ce62f",
          "d6051ff4a24a1f46bad8abf940c505d0",
          "bd3d8a4c8960c173a86f1c68a69221d3",
          "d9c68be10f1be9597357c524a08d3ce3",
          "530ed0564e513c18dcc0bf346e61c2a6",
          "bd3d8a4c8960c173a86f1c68a69221d3",
          "a70f2462131a0b72471f06cb543ce62f",
          "fd5dc765d48bf20a75c2c7975f89c2e3",
          "51a788459deb58758341feed5d7011b4",
          "bd3d8a4c8960c173a86f1c68a69221d3",
          "51a788459deb58758341feed5d7011b4",
          "fd5dc765d48bf20a75c2c7975f89c2e3",
          "bd3d8a4c8960c173a86f1c68a69221d3",
          "a70f2462131a0b72471f06cb543ce62f",
          "a13817de4a0df14757a32651c770b079",
          "51a788459deb58758341feed5d7011b4",
          "f1c758e0870e59505963dbc15dd19b83",
          "d6051ff4a24a1f46bad8abf940c505d0",
          "89b8ff2cfc7e4f3ef88c6bb1320d04b2",
          "827c6f5e8dd31f9338fa8d9545316c46",
          "bd3d8a4c8960c173a86f1c68a69221d3",
          "530ed0564e513c18dcc0bf346e61c2a6",
          "89b8ff2cfc7e4f3ef88c6bb1320d04b2",
          "a70f2462131a0b72471f06cb543ce62f",
          "89b8ff2cfc7e4f3ef88c6bb1320d04b2",
          "530ed0564e513c18dcc0bf346e61c2a6",
          "fd5dc765d48bf20a75c2c7975f89c2e3",
          "a70f2462131a0b72471f06cb543ce62f",
          "89b8ff2cfc7e4f3ef88c6bb1320d04b2",
          "a13817de4a0df14757a32651c770b079",
          "fd5dc765d48bf20a75c2c7975f89c2e3",
          "bd3d8a4c8960c173a86f1c68a69221d3",
          "51a788459deb58758341feed5d7011b4",
          "a70f2462131a0b72471f06cb543ce62f",
          "81fd08a006c076bf5fef0d5318a0e1d6",
          "a13817de4a0df14757a32651c770b079",
          "bd3d8a4c8960c173a86f1c68a69221d3",
          "bd3d8a4c8960c173a86f1c68a69221d3",
          "a70f2462131a0b72471f06cb543ce62f",
          "89b8ff2cfc7e4f3ef88c6bb1320d04b2",
          "fd5dc765d48bf20a75c2c7975f89c2e3",
          "28a417505e77a6b2c0a1fd1f49d898c9",
          "89b8ff2cfc7e4f3ef88c6bb1320d04b2",
          "a13817de4a0df14757a32651c770b079",
          "a70f2462131a0b72471f06cb543ce62f",
          "a70f2462131a0b72471f06cb543ce62f",
          "bd3d8a4c8960c173a86f1c68a69221d3",
          "fd5dc765d48bf20a75c2c7975f89c2e3",
          "81fd08a006c076bf5fef0d5318a0e1d6",
          "a70f2462131a0b72471f06cb543ce62f",
          "a70f2462131a0b72471f06cb543ce62f",
          "a70f2462131a0b72471f06cb543ce62f",
          "51a788459deb58758341feed5d7011b4",
          "81fd08a006c076bf5fef0d5318a0e1d6",
          "89b8ff2cfc7e4f3ef88c6bb1320d04b2",
          "81fd08a006c076bf5fef0d5318a0e1d6",
          "19d02140fdd786471e09f178545e7530",
          "81fd08a006c076bf5fef0d5318a0e1d6",
          "fd5dc765d48bf20a75c2c7975f89c2e3",
          "bd3d8a4c8960c173a86f1c68a69221d3",
          "827c6f5e8dd31f9338fa8d9545316c46",
          "fd5dc765d48bf20a75c2c7975f89c2e3",
          "a13817de4a0df14757a32651c770b079",
          "a70f2462131a0b72471f06cb543ce62f",
          "fd5dc765d48bf20a75c2c7975f89c2e3",
          "bd3d8a4c8960c173a86f1c68a69221d3",
          "81fd08a006c076bf5fef0d5318a0e1d6",
          "d6051ff4a24a1f46bad8abf940c505d0",
          "28a417505e77a6b2c0a1fd1f49d898c9",
          "a13817de4a0df14757a32651c770b079",
          "89b8ff2cfc7e4f3ef88c6bb1320d04b2",
          "fd5dc765d48bf20a75c2c7975f89c2e3",
          "827c6f5e8dd31f9338fa8d9545316c46",
          "a70f2462131a0b72471f06cb543ce62f",
          "a70f2462131a0b72471f06cb543ce62f",
          "530ed0564e513c18dcc0bf346e61c2a6",
          "81fd08a006c076bf5fef0d5318a0e1d6",
          "a13817de4a0df14757a32651c770b079",
          "fd5dc765d48bf20a75c2c7975f89c2e3",
          "89b8ff2cfc7e4f3ef88c6bb1320d04b2",
          "28a417505e77a6b2c0a1fd1f49d898c9",
          "a70f2462131a0b72471f06cb543ce62f",
          "fd5dc765d48bf20a75c2c7975f89c2e3",
          "fd5dc765d48bf20a75c2c7975f89c2e3",
          "a70f2462131a0b72471f06cb543ce62f",
          "a13817de4a0df14757a32651c770b079",
          "89b8ff2cfc7e4f3ef88c6bb1320d04b2",
          "d6051ff4a24a1f46bad8abf940c505d0",
          "fd5dc765d48bf20a75c2c7975f89c2e3",
          "a70f2462131a0b72471f06cb543ce62f",
          "28a417505e77a6b2c0a1fd1f49d898c9",
          "a13817de4a0df14757a32651c770b079",
          "a13817de4a0df14757a32651c770b079",
          "a13817de4a0df14757a32651c770b079",
          "bd3d8a4c8960c173a86f1c68a69221d3",
          "a13817de4a0df14757a32651c770b079",
          "bd3d8a4c8960c173a86f1c68a69221d3",
          "51a788459deb58758341feed5d7011b4",
          "28a417505e77a6b2c0a1fd1f49d898c9",
          "89b8ff2cfc7e4f3ef88c6bb1320d04b2",
          "a70f2462131a0b72471f06cb543ce62f",
          "bd3d8a4c8960c173a86f1c68a69221d3",
          "bd3d8a4c8960c173a86f1c68a69221d3",
          "d6051ff4a24a1f46bad8abf940c505d0",
          "bd3d8a4c8960c173a86f1c68a69221d3",
          "d6051ff4a24a1f46bad8abf940c505d0",
          "fd5dc765d48bf20a75c2c7975f89c2e3",
          "81fd08a006c076bf5fef0d5318a0e1d6",
          "89b8ff2cfc7e4f3ef88c6bb1320d04b2",
          "89b8ff2cfc7e4f3ef88c6bb1320d04b2",
          "a70f2462131a0b72471f06cb543ce62f",
          "bd3d8a4c8960c173a86f1c68a69221d3",
          "fd5dc765d48bf20a75c2c7975f89c2e3",
          "81fd08a006c076bf5fef0d5318a0e1d6",
          "81fd08a006c076bf5fef0d5318a0e1d6",
          "a70f2462131a0b72471f06cb543ce62f",
          "530ed0564e513c18dcc0bf346e61c2a6",
          "a70f2462131a0b72471f06cb543ce62f",
          "a70f2462131a0b72471f06cb543ce62f",
          "51a788459deb58758341feed5d7011b4",
          "a70f2462131a0b72471f06cb543ce62f",
          "89b8ff2cfc7e4f3ef88c6bb1320d04b2",
          "51a788459deb58758341feed5d7011b4",
          "fd5dc765d48bf20a75c2c7975f89c2e3",
          "89b8ff2cfc7e4f3ef88c6bb1320d04b2",
          "89b8ff2cfc7e4f3ef88c6bb1320d04b2",
          "a70f2462131a0b72471f06cb543ce62f",
          "28a417505e77a6b2c0a1fd1f49d898c9",
          "a70f2462131a0b72471f06cb543ce62f",
          "89b8ff2cfc7e4f3ef88c6bb1320d04b2",
          "a13817de4a0df14757a32651c770b079",
          "fd5dc765d48bf20a75c2c7975f89c2e3",
          "bd3d8a4c8960c173a86f1c68a69221d3",
          "a70f2462131a0b72471f06cb543ce62f",
          "827c6f5e8dd31f9338fa8d9545316c46",
          "a70f2462131a0b72471f06cb543ce62f",
          "bd3d8a4c8960c173a86f1c68a69221d3",
          "bd3d8a4c8960c173a86f1c68a69221d3",
          "89b8ff2cfc7e4f3ef88c6bb1320d04b2",
          "51a788459deb58758341feed5d7011b4",
          "a70f2462131a0b72471f06cb543ce62f",
          "fd5dc765d48bf20a75c2c7975f89c2e3",
          "a70f2462131a0b72471f06cb543ce62f",
          "51a788459deb58758341feed5d7011b4",
          "530ed0564e513c18dcc0bf346e61c2a6",
          "fd5dc765d48bf20a75c2c7975f89c2e3",
          "a13817de4a0df14757a32651c770b079",
          "51a788459deb58758341feed5d7011b4",
          "81fd08a006c076bf5fef0d5318a0e1d6",
          "bd3d8a4c8960c173a86f1c68a69221d3",
          "530ed0564e513c18dcc0bf346e61c2a6",
          "81fd08a006c076bf5fef0d5318a0e1d6",
          "19d02140fdd786471e09f178545e7530",
          "a13817de4a0df14757a32651c770b079",
          "81fd08a006c076bf5fef0d5318a0e1d6",
          "8b6fd1f03aa5971e4b733a5ab0791968",
          "8b6fd1f03aa5971e4b733a5ab0791968"
         ],
         "xaxis": "x",
         "xbingroup": "x",
         "y": [
          16,
          4,
          16,
          1,
          2,
          2,
          2,
          1,
          2,
          2,
          2,
          2,
          2,
          16,
          2,
          16,
          16,
          2,
          16,
          8,
          4,
          8,
          4,
          8,
          8,
          8,
          8,
          8,
          8,
          8,
          2,
          4,
          4,
          2,
          8,
          8,
          8,
          4,
          2,
          8,
          8,
          16,
          8,
          16,
          2,
          4,
          2,
          8,
          4,
          8,
          4,
          8,
          8,
          8,
          16,
          2,
          4,
          4,
          16,
          8,
          8,
          16,
          16,
          4,
          4,
          8,
          8,
          16,
          8,
          8,
          4,
          2,
          4,
          8,
          8,
          2,
          4,
          2,
          4,
          4,
          8,
          8,
          4,
          8,
          8,
          8,
          4,
          8,
          16,
          4,
          4,
          8,
          8,
          4,
          8,
          16,
          8,
          8,
          8,
          8,
          8,
          8,
          8,
          4,
          4,
          8,
          8,
          8,
          16,
          8,
          4,
          8,
          8,
          8,
          8,
          1,
          4,
          8,
          4,
          8,
          2,
          2,
          8,
          4,
          8,
          8,
          4,
          8,
          8,
          2,
          4,
          8,
          4,
          8,
          4,
          8,
          4,
          8,
          8,
          8,
          4,
          8,
          8,
          4,
          4,
          4,
          8,
          4,
          16,
          8,
          8,
          4,
          4,
          4,
          8,
          16,
          8,
          4,
          4,
          8,
          4,
          16,
          8,
          2,
          8,
          8,
          4,
          8,
          4,
          4,
          8,
          16,
          8,
          4,
          4,
          8,
          16,
          4,
          16,
          8,
          8,
          8,
          4,
          8,
          8,
          16,
          8,
          16,
          8,
          8,
          16,
          16,
          4,
          4,
          8,
          8,
          8,
          8,
          4,
          8,
          8,
          8,
          8,
          4,
          2,
          8,
          4,
          8,
          4,
          4,
          4,
          8,
          8,
          16,
          8,
          16,
          8,
          8,
          4,
          8,
          2,
          8,
          8,
          4,
          4,
          8,
          8,
          2,
          8,
          16,
          8,
          4,
          2,
          4,
          8,
          8,
          8,
          4,
          4,
          16,
          8,
          1,
          8,
          16,
          8,
          4,
          8,
          8,
          8,
          8,
          4,
          4,
          4,
          16,
          8,
          8,
          16,
          4,
          8,
          8,
          8,
          4,
          4,
          8,
          4,
          8,
          8,
          2,
          8,
          4,
          16,
          8,
          4,
          2,
          8,
          8,
          4,
          16,
          4,
          8,
          4,
          8,
          4,
          4,
          8,
          16,
          8,
          8,
          4,
          16,
          4,
          8,
          8,
          16,
          2,
          16,
          2,
          8,
          4,
          8,
          8,
          8,
          8,
          8,
          4,
          4,
          4,
          8,
          16,
          8,
          8,
          8,
          8,
          4,
          8,
          8,
          8,
          8,
          8,
          8,
          4,
          8,
          8,
          2,
          8,
          8,
          8,
          8,
          4,
          4,
          4,
          8,
          4,
          8,
          8,
          8,
          4,
          8,
          4,
          8,
          8,
          4,
          8,
          8,
          4,
          16,
          8,
          8,
          4,
          8,
          2,
          4,
          8,
          8,
          4,
          2,
          8,
          4,
          8,
          8,
          16,
          4,
          2,
          16,
          8,
          2,
          8,
          8,
          8,
          4,
          16,
          4,
          8,
          16,
          8,
          4,
          4,
          2,
          8,
          8,
          4,
          16,
          2,
          8,
          4,
          4,
          2,
          8,
          4,
          4,
          8,
          8,
          16,
          8,
          4,
          4,
          8,
          8,
          16,
          4,
          8,
          8,
          2,
          8,
          8,
          4,
          4,
          16,
          8,
          4,
          8,
          4,
          8,
          4,
          8,
          8,
          16,
          2,
          8,
          8,
          8,
          4,
          8,
          4,
          4,
          8,
          16,
          4,
          4,
          8,
          8,
          8,
          8,
          8,
          16,
          4,
          1,
          8,
          8,
          8,
          8,
          2,
          4,
          8,
          8,
          4,
          4,
          8,
          2,
          8,
          8,
          2,
          8,
          4,
          8,
          16,
          8,
          16,
          8,
          4,
          8,
          4,
          8,
          16,
          4,
          16,
          4,
          8,
          4,
          8,
          4,
          8,
          4,
          8,
          8,
          8,
          8,
          1,
          4,
          4,
          8,
          4,
          8,
          8,
          8,
          8,
          4,
          8,
          2,
          8,
          8,
          8,
          8,
          16,
          4,
          8,
          4,
          16,
          16,
          8,
          8,
          8,
          8,
          4,
          4,
          2,
          8,
          8,
          8,
          8,
          16,
          2,
          4,
          2,
          8,
          8,
          4,
          0
         ],
         "yaxis": "y",
         "ybingroup": "y"
        }
       ],
       "layout": {
        "coloraxis": {
         "colorbar": {
          "title": {
           "text": "count"
          }
         },
         "colorscale": [
          [
           0,
           "#0d0887"
          ],
          [
           0.1111111111111111,
           "#46039f"
          ],
          [
           0.2222222222222222,
           "#7201a8"
          ],
          [
           0.3333333333333333,
           "#9c179e"
          ],
          [
           0.4444444444444444,
           "#bd3786"
          ],
          [
           0.5555555555555556,
           "#d8576b"
          ],
          [
           0.6666666666666666,
           "#ed7953"
          ],
          [
           0.7777777777777778,
           "#fb9f3a"
          ],
          [
           0.8888888888888888,
           "#fdca26"
          ],
          [
           1,
           "#f0f921"
          ]
         ]
        },
        "legend": {
         "tracegroupgap": 0
        },
        "margin": {
         "t": 60
        },
        "template": {
         "data": {
          "bar": [
           {
            "error_x": {
             "color": "#2a3f5f"
            },
            "error_y": {
             "color": "#2a3f5f"
            },
            "marker": {
             "line": {
              "color": "#E5ECF6",
              "width": 0.5
             },
             "pattern": {
              "fillmode": "overlay",
              "size": 10,
              "solidity": 0.2
             }
            },
            "type": "bar"
           }
          ],
          "barpolar": [
           {
            "marker": {
             "line": {
              "color": "#E5ECF6",
              "width": 0.5
             },
             "pattern": {
              "fillmode": "overlay",
              "size": 10,
              "solidity": 0.2
             }
            },
            "type": "barpolar"
           }
          ],
          "carpet": [
           {
            "aaxis": {
             "endlinecolor": "#2a3f5f",
             "gridcolor": "white",
             "linecolor": "white",
             "minorgridcolor": "white",
             "startlinecolor": "#2a3f5f"
            },
            "baxis": {
             "endlinecolor": "#2a3f5f",
             "gridcolor": "white",
             "linecolor": "white",
             "minorgridcolor": "white",
             "startlinecolor": "#2a3f5f"
            },
            "type": "carpet"
           }
          ],
          "choropleth": [
           {
            "colorbar": {
             "outlinewidth": 0,
             "ticks": ""
            },
            "type": "choropleth"
           }
          ],
          "contour": [
           {
            "colorbar": {
             "outlinewidth": 0,
             "ticks": ""
            },
            "colorscale": [
             [
              0,
              "#0d0887"
             ],
             [
              0.1111111111111111,
              "#46039f"
             ],
             [
              0.2222222222222222,
              "#7201a8"
             ],
             [
              0.3333333333333333,
              "#9c179e"
             ],
             [
              0.4444444444444444,
              "#bd3786"
             ],
             [
              0.5555555555555556,
              "#d8576b"
             ],
             [
              0.6666666666666666,
              "#ed7953"
             ],
             [
              0.7777777777777778,
              "#fb9f3a"
             ],
             [
              0.8888888888888888,
              "#fdca26"
             ],
             [
              1,
              "#f0f921"
             ]
            ],
            "type": "contour"
           }
          ],
          "contourcarpet": [
           {
            "colorbar": {
             "outlinewidth": 0,
             "ticks": ""
            },
            "type": "contourcarpet"
           }
          ],
          "heatmap": [
           {
            "colorbar": {
             "outlinewidth": 0,
             "ticks": ""
            },
            "colorscale": [
             [
              0,
              "#0d0887"
             ],
             [
              0.1111111111111111,
              "#46039f"
             ],
             [
              0.2222222222222222,
              "#7201a8"
             ],
             [
              0.3333333333333333,
              "#9c179e"
             ],
             [
              0.4444444444444444,
              "#bd3786"
             ],
             [
              0.5555555555555556,
              "#d8576b"
             ],
             [
              0.6666666666666666,
              "#ed7953"
             ],
             [
              0.7777777777777778,
              "#fb9f3a"
             ],
             [
              0.8888888888888888,
              "#fdca26"
             ],
             [
              1,
              "#f0f921"
             ]
            ],
            "type": "heatmap"
           }
          ],
          "heatmapgl": [
           {
            "colorbar": {
             "outlinewidth": 0,
             "ticks": ""
            },
            "colorscale": [
             [
              0,
              "#0d0887"
             ],
             [
              0.1111111111111111,
              "#46039f"
             ],
             [
              0.2222222222222222,
              "#7201a8"
             ],
             [
              0.3333333333333333,
              "#9c179e"
             ],
             [
              0.4444444444444444,
              "#bd3786"
             ],
             [
              0.5555555555555556,
              "#d8576b"
             ],
             [
              0.6666666666666666,
              "#ed7953"
             ],
             [
              0.7777777777777778,
              "#fb9f3a"
             ],
             [
              0.8888888888888888,
              "#fdca26"
             ],
             [
              1,
              "#f0f921"
             ]
            ],
            "type": "heatmapgl"
           }
          ],
          "histogram": [
           {
            "marker": {
             "pattern": {
              "fillmode": "overlay",
              "size": 10,
              "solidity": 0.2
             }
            },
            "type": "histogram"
           }
          ],
          "histogram2d": [
           {
            "colorbar": {
             "outlinewidth": 0,
             "ticks": ""
            },
            "colorscale": [
             [
              0,
              "#0d0887"
             ],
             [
              0.1111111111111111,
              "#46039f"
             ],
             [
              0.2222222222222222,
              "#7201a8"
             ],
             [
              0.3333333333333333,
              "#9c179e"
             ],
             [
              0.4444444444444444,
              "#bd3786"
             ],
             [
              0.5555555555555556,
              "#d8576b"
             ],
             [
              0.6666666666666666,
              "#ed7953"
             ],
             [
              0.7777777777777778,
              "#fb9f3a"
             ],
             [
              0.8888888888888888,
              "#fdca26"
             ],
             [
              1,
              "#f0f921"
             ]
            ],
            "type": "histogram2d"
           }
          ],
          "histogram2dcontour": [
           {
            "colorbar": {
             "outlinewidth": 0,
             "ticks": ""
            },
            "colorscale": [
             [
              0,
              "#0d0887"
             ],
             [
              0.1111111111111111,
              "#46039f"
             ],
             [
              0.2222222222222222,
              "#7201a8"
             ],
             [
              0.3333333333333333,
              "#9c179e"
             ],
             [
              0.4444444444444444,
              "#bd3786"
             ],
             [
              0.5555555555555556,
              "#d8576b"
             ],
             [
              0.6666666666666666,
              "#ed7953"
             ],
             [
              0.7777777777777778,
              "#fb9f3a"
             ],
             [
              0.8888888888888888,
              "#fdca26"
             ],
             [
              1,
              "#f0f921"
             ]
            ],
            "type": "histogram2dcontour"
           }
          ],
          "mesh3d": [
           {
            "colorbar": {
             "outlinewidth": 0,
             "ticks": ""
            },
            "type": "mesh3d"
           }
          ],
          "parcoords": [
           {
            "line": {
             "colorbar": {
              "outlinewidth": 0,
              "ticks": ""
             }
            },
            "type": "parcoords"
           }
          ],
          "pie": [
           {
            "automargin": true,
            "type": "pie"
           }
          ],
          "scatter": [
           {
            "fillpattern": {
             "fillmode": "overlay",
             "size": 10,
             "solidity": 0.2
            },
            "type": "scatter"
           }
          ],
          "scatter3d": [
           {
            "line": {
             "colorbar": {
              "outlinewidth": 0,
              "ticks": ""
             }
            },
            "marker": {
             "colorbar": {
              "outlinewidth": 0,
              "ticks": ""
             }
            },
            "type": "scatter3d"
           }
          ],
          "scattercarpet": [
           {
            "marker": {
             "colorbar": {
              "outlinewidth": 0,
              "ticks": ""
             }
            },
            "type": "scattercarpet"
           }
          ],
          "scattergeo": [
           {
            "marker": {
             "colorbar": {
              "outlinewidth": 0,
              "ticks": ""
             }
            },
            "type": "scattergeo"
           }
          ],
          "scattergl": [
           {
            "marker": {
             "colorbar": {
              "outlinewidth": 0,
              "ticks": ""
             }
            },
            "type": "scattergl"
           }
          ],
          "scattermapbox": [
           {
            "marker": {
             "colorbar": {
              "outlinewidth": 0,
              "ticks": ""
             }
            },
            "type": "scattermapbox"
           }
          ],
          "scatterpolar": [
           {
            "marker": {
             "colorbar": {
              "outlinewidth": 0,
              "ticks": ""
             }
            },
            "type": "scatterpolar"
           }
          ],
          "scatterpolargl": [
           {
            "marker": {
             "colorbar": {
              "outlinewidth": 0,
              "ticks": ""
             }
            },
            "type": "scatterpolargl"
           }
          ],
          "scatterternary": [
           {
            "marker": {
             "colorbar": {
              "outlinewidth": 0,
              "ticks": ""
             }
            },
            "type": "scatterternary"
           }
          ],
          "surface": [
           {
            "colorbar": {
             "outlinewidth": 0,
             "ticks": ""
            },
            "colorscale": [
             [
              0,
              "#0d0887"
             ],
             [
              0.1111111111111111,
              "#46039f"
             ],
             [
              0.2222222222222222,
              "#7201a8"
             ],
             [
              0.3333333333333333,
              "#9c179e"
             ],
             [
              0.4444444444444444,
              "#bd3786"
             ],
             [
              0.5555555555555556,
              "#d8576b"
             ],
             [
              0.6666666666666666,
              "#ed7953"
             ],
             [
              0.7777777777777778,
              "#fb9f3a"
             ],
             [
              0.8888888888888888,
              "#fdca26"
             ],
             [
              1,
              "#f0f921"
             ]
            ],
            "type": "surface"
           }
          ],
          "table": [
           {
            "cells": {
             "fill": {
              "color": "#EBF0F8"
             },
             "line": {
              "color": "white"
             }
            },
            "header": {
             "fill": {
              "color": "#C8D4E3"
             },
             "line": {
              "color": "white"
             }
            },
            "type": "table"
           }
          ]
         },
         "layout": {
          "annotationdefaults": {
           "arrowcolor": "#2a3f5f",
           "arrowhead": 0,
           "arrowwidth": 1
          },
          "autotypenumbers": "strict",
          "coloraxis": {
           "colorbar": {
            "outlinewidth": 0,
            "ticks": ""
           }
          },
          "colorscale": {
           "diverging": [
            [
             0,
             "#8e0152"
            ],
            [
             0.1,
             "#c51b7d"
            ],
            [
             0.2,
             "#de77ae"
            ],
            [
             0.3,
             "#f1b6da"
            ],
            [
             0.4,
             "#fde0ef"
            ],
            [
             0.5,
             "#f7f7f7"
            ],
            [
             0.6,
             "#e6f5d0"
            ],
            [
             0.7,
             "#b8e186"
            ],
            [
             0.8,
             "#7fbc41"
            ],
            [
             0.9,
             "#4d9221"
            ],
            [
             1,
             "#276419"
            ]
           ],
           "sequential": [
            [
             0,
             "#0d0887"
            ],
            [
             0.1111111111111111,
             "#46039f"
            ],
            [
             0.2222222222222222,
             "#7201a8"
            ],
            [
             0.3333333333333333,
             "#9c179e"
            ],
            [
             0.4444444444444444,
             "#bd3786"
            ],
            [
             0.5555555555555556,
             "#d8576b"
            ],
            [
             0.6666666666666666,
             "#ed7953"
            ],
            [
             0.7777777777777778,
             "#fb9f3a"
            ],
            [
             0.8888888888888888,
             "#fdca26"
            ],
            [
             1,
             "#f0f921"
            ]
           ],
           "sequentialminus": [
            [
             0,
             "#0d0887"
            ],
            [
             0.1111111111111111,
             "#46039f"
            ],
            [
             0.2222222222222222,
             "#7201a8"
            ],
            [
             0.3333333333333333,
             "#9c179e"
            ],
            [
             0.4444444444444444,
             "#bd3786"
            ],
            [
             0.5555555555555556,
             "#d8576b"
            ],
            [
             0.6666666666666666,
             "#ed7953"
            ],
            [
             0.7777777777777778,
             "#fb9f3a"
            ],
            [
             0.8888888888888888,
             "#fdca26"
            ],
            [
             1,
             "#f0f921"
            ]
           ]
          },
          "colorway": [
           "#636efa",
           "#EF553B",
           "#00cc96",
           "#ab63fa",
           "#FFA15A",
           "#19d3f3",
           "#FF6692",
           "#B6E880",
           "#FF97FF",
           "#FECB52"
          ],
          "font": {
           "color": "#2a3f5f"
          },
          "geo": {
           "bgcolor": "white",
           "lakecolor": "white",
           "landcolor": "#E5ECF6",
           "showlakes": true,
           "showland": true,
           "subunitcolor": "white"
          },
          "hoverlabel": {
           "align": "left"
          },
          "hovermode": "closest",
          "mapbox": {
           "style": "light"
          },
          "paper_bgcolor": "white",
          "plot_bgcolor": "#E5ECF6",
          "polar": {
           "angularaxis": {
            "gridcolor": "white",
            "linecolor": "white",
            "ticks": ""
           },
           "bgcolor": "#E5ECF6",
           "radialaxis": {
            "gridcolor": "white",
            "linecolor": "white",
            "ticks": ""
           }
          },
          "scene": {
           "xaxis": {
            "backgroundcolor": "#E5ECF6",
            "gridcolor": "white",
            "gridwidth": 2,
            "linecolor": "white",
            "showbackground": true,
            "ticks": "",
            "zerolinecolor": "white"
           },
           "yaxis": {
            "backgroundcolor": "#E5ECF6",
            "gridcolor": "white",
            "gridwidth": 2,
            "linecolor": "white",
            "showbackground": true,
            "ticks": "",
            "zerolinecolor": "white"
           },
           "zaxis": {
            "backgroundcolor": "#E5ECF6",
            "gridcolor": "white",
            "gridwidth": 2,
            "linecolor": "white",
            "showbackground": true,
            "ticks": "",
            "zerolinecolor": "white"
           }
          },
          "shapedefaults": {
           "line": {
            "color": "#2a3f5f"
           }
          },
          "ternary": {
           "aaxis": {
            "gridcolor": "white",
            "linecolor": "white",
            "ticks": ""
           },
           "baxis": {
            "gridcolor": "white",
            "linecolor": "white",
            "ticks": ""
           },
           "bgcolor": "#E5ECF6",
           "caxis": {
            "gridcolor": "white",
            "linecolor": "white",
            "ticks": ""
           }
          },
          "title": {
           "x": 0.05
          },
          "xaxis": {
           "automargin": true,
           "gridcolor": "white",
           "linecolor": "white",
           "ticks": "",
           "title": {
            "standoff": 15
           },
           "zerolinecolor": "white",
           "zerolinewidth": 2
          },
          "yaxis": {
           "automargin": true,
           "gridcolor": "white",
           "linecolor": "white",
           "ticks": "",
           "title": {
            "standoff": 15
           },
           "zerolinecolor": "white",
           "zerolinewidth": 2
          }
         }
        },
        "xaxis": {
         "anchor": "y",
         "domain": [
          0,
          1
         ],
         "title": {
          "text": "account_id"
         }
        },
        "yaxis": {
         "anchor": "x",
         "domain": [
          0,
          1
         ],
         "title": {
          "text": "instance_cores"
         }
        }
       }
      }
     },
     "metadata": {},
     "output_type": "display_data"
    }
   ],
   "source": [
    "import plotly.express as px\n",
    "data = rnb.search(\"is(instance)\")\n",
    "px.density_heatmap(data, x=\"account_id\", y=\"instance_cores\") "
   ]
  },
  {
   "cell_type": "markdown",
   "metadata": {},
   "source": [
    "### Selecting properties\n",
    "\n",
    "Get list of name, type, cores, and memory for each instance:"
   ]
  },
  {
   "cell_type": "code",
   "execution_count": 17,
   "metadata": {},
   "outputs": [
    {
     "data": {
      "text/html": [
       "<div>\n",
       "<style scoped>\n",
       "    .dataframe tbody tr th:only-of-type {\n",
       "        vertical-align: middle;\n",
       "    }\n",
       "\n",
       "    .dataframe tbody tr th {\n",
       "        vertical-align: top;\n",
       "    }\n",
       "\n",
       "    .dataframe thead th {\n",
       "        text-align: right;\n",
       "    }\n",
       "</style>\n",
       "<table border=\"1\" class=\"dataframe\">\n",
       "  <thead>\n",
       "    <tr style=\"text-align: right;\">\n",
       "      <th></th>\n",
       "      <th>instance_type</th>\n",
       "      <th>instance_cores</th>\n",
       "      <th>instance_memory</th>\n",
       "    </tr>\n",
       "  </thead>\n",
       "  <tbody>\n",
       "    <tr>\n",
       "      <th>0</th>\n",
       "      <td>e2-standard-16</td>\n",
       "      <td>16</td>\n",
       "      <td>64.00</td>\n",
       "    </tr>\n",
       "    <tr>\n",
       "      <th>1</th>\n",
       "      <td>n1-standard-4</td>\n",
       "      <td>4</td>\n",
       "      <td>15.00</td>\n",
       "    </tr>\n",
       "    <tr>\n",
       "      <th>2</th>\n",
       "      <td>e2-standard-16</td>\n",
       "      <td>16</td>\n",
       "      <td>64.00</td>\n",
       "    </tr>\n",
       "    <tr>\n",
       "      <th>3</th>\n",
       "      <td>n1-standard-1</td>\n",
       "      <td>1</td>\n",
       "      <td>3.75</td>\n",
       "    </tr>\n",
       "    <tr>\n",
       "      <th>4</th>\n",
       "      <td></td>\n",
       "      <td>2</td>\n",
       "      <td>8192.00</td>\n",
       "    </tr>\n",
       "    <tr>\n",
       "      <th>...</th>\n",
       "      <td>...</td>\n",
       "      <td>...</td>\n",
       "      <td>...</td>\n",
       "    </tr>\n",
       "    <tr>\n",
       "      <th>513</th>\n",
       "      <td>t2.medium</td>\n",
       "      <td>2</td>\n",
       "      <td>4.00</td>\n",
       "    </tr>\n",
       "    <tr>\n",
       "      <th>514</th>\n",
       "      <td>m5.2xlarge</td>\n",
       "      <td>8</td>\n",
       "      <td>32.00</td>\n",
       "    </tr>\n",
       "    <tr>\n",
       "      <th>515</th>\n",
       "      <td>m5.2xlarge</td>\n",
       "      <td>8</td>\n",
       "      <td>32.00</td>\n",
       "    </tr>\n",
       "    <tr>\n",
       "      <th>516</th>\n",
       "      <td></td>\n",
       "      <td>4</td>\n",
       "      <td>32.00</td>\n",
       "    </tr>\n",
       "    <tr>\n",
       "      <th>517</th>\n",
       "      <td></td>\n",
       "      <td>0</td>\n",
       "      <td>0.00</td>\n",
       "    </tr>\n",
       "  </tbody>\n",
       "</table>\n",
       "<p>518 rows × 3 columns</p>\n",
       "</div>"
      ],
      "text/plain": [
       "      instance_type  instance_cores  instance_memory\n",
       "0    e2-standard-16              16            64.00\n",
       "1     n1-standard-4               4            15.00\n",
       "2    e2-standard-16              16            64.00\n",
       "3     n1-standard-1               1             3.75\n",
       "4                                 2          8192.00\n",
       "..              ...             ...              ...\n",
       "513       t2.medium               2             4.00\n",
       "514      m5.2xlarge               8            32.00\n",
       "515      m5.2xlarge               8            32.00\n",
       "516                               4            32.00\n",
       "517                               0             0.00\n",
       "\n",
       "[518 rows x 3 columns]"
      ]
     },
     "execution_count": 17,
     "metadata": {},
     "output_type": "execute_result"
    }
   ],
   "source": [
    "rnb.search(\"is(instance)\")[[\"instance_type\",\"instance_cores\", \"instance_memory\"]]"
   ]
  },
  {
   "cell_type": "markdown",
   "metadata": {},
   "source": [
    "Using the cli command:"
   ]
  },
  {
   "cell_type": "code",
   "execution_count": 18,
   "metadata": {},
   "outputs": [
    {
     "data": {
      "text/html": [
       "<div>\n",
       "<style scoped>\n",
       "    .dataframe tbody tr th:only-of-type {\n",
       "        vertical-align: middle;\n",
       "    }\n",
       "\n",
       "    .dataframe tbody tr th {\n",
       "        vertical-align: top;\n",
       "    }\n",
       "\n",
       "    .dataframe thead th {\n",
       "        text-align: right;\n",
       "    }\n",
       "</style>\n",
       "<table border=\"1\" class=\"dataframe\">\n",
       "  <thead>\n",
       "    <tr style=\"text-align: right;\">\n",
       "      <th></th>\n",
       "      <th>0</th>\n",
       "    </tr>\n",
       "  </thead>\n",
       "  <tbody>\n",
       "    <tr>\n",
       "      <th>0</th>\n",
       "      <td>instance_type=m5.4xlarge, cores=16, memory=64,...</td>\n",
       "    </tr>\n",
       "    <tr>\n",
       "      <th>1</th>\n",
       "      <td>instance_type=m5.4xlarge, cores=16, memory=64,...</td>\n",
       "    </tr>\n",
       "    <tr>\n",
       "      <th>2</th>\n",
       "      <td>instance_type=m5.4xlarge, cores=16, memory=64,...</td>\n",
       "    </tr>\n",
       "    <tr>\n",
       "      <th>3</th>\n",
       "      <td>instance_type=m5.4xlarge, cores=16, memory=64,...</td>\n",
       "    </tr>\n",
       "    <tr>\n",
       "      <th>4</th>\n",
       "      <td>instance_type=m5.4xlarge, cores=16, memory=64,...</td>\n",
       "    </tr>\n",
       "    <tr>\n",
       "      <th>...</th>\n",
       "      <td>...</td>\n",
       "    </tr>\n",
       "    <tr>\n",
       "      <th>513</th>\n",
       "      <td>instance_type=e2-standard-16, cores=16, memory...</td>\n",
       "    </tr>\n",
       "    <tr>\n",
       "      <th>514</th>\n",
       "      <td>instance_type=e2-standard-16, cores=16, memory...</td>\n",
       "    </tr>\n",
       "    <tr>\n",
       "      <th>515</th>\n",
       "      <td>instance_type=e2-standard-16, cores=16, memory...</td>\n",
       "    </tr>\n",
       "    <tr>\n",
       "      <th>516</th>\n",
       "      <td>instance_type=e2-standard-16, cores=16, memory...</td>\n",
       "    </tr>\n",
       "    <tr>\n",
       "      <th>517</th>\n",
       "      <td>instance_type=n1-standard-4, cores=4, memory=1...</td>\n",
       "    </tr>\n",
       "  </tbody>\n",
       "</table>\n",
       "<p>518 rows × 1 columns</p>\n",
       "</div>"
      ],
      "text/plain": [
       "                                                     0\n",
       "0    instance_type=m5.4xlarge, cores=16, memory=64,...\n",
       "1    instance_type=m5.4xlarge, cores=16, memory=64,...\n",
       "2    instance_type=m5.4xlarge, cores=16, memory=64,...\n",
       "3    instance_type=m5.4xlarge, cores=16, memory=64,...\n",
       "4    instance_type=m5.4xlarge, cores=16, memory=64,...\n",
       "..                                                 ...\n",
       "513  instance_type=e2-standard-16, cores=16, memory...\n",
       "514  instance_type=e2-standard-16, cores=16, memory...\n",
       "515  instance_type=e2-standard-16, cores=16, memory...\n",
       "516  instance_type=e2-standard-16, cores=16, memory...\n",
       "517  instance_type=n1-standard-4, cores=4, memory=1...\n",
       "\n",
       "[518 rows x 1 columns]"
      ]
     },
     "execution_count": 18,
     "metadata": {},
     "output_type": "execute_result"
    }
   ],
   "source": [
    "rnb.cli_execute(\"search is(instance) | list instance_type, instance_cores as cores, instance_memory as memory, /ancestors.account.reported.name as account\")"
   ]
  },
  {
   "cell_type": "markdown",
   "metadata": {},
   "source": [
    "Get a list of instance IDs and their creation times:"
   ]
  },
  {
   "cell_type": "code",
   "execution_count": 19,
   "metadata": {},
   "outputs": [
    {
     "data": {
      "text/html": [
       "<div>\n",
       "<style scoped>\n",
       "    .dataframe tbody tr th:only-of-type {\n",
       "        vertical-align: middle;\n",
       "    }\n",
       "\n",
       "    .dataframe tbody tr th {\n",
       "        vertical-align: top;\n",
       "    }\n",
       "\n",
       "    .dataframe thead th {\n",
       "        text-align: right;\n",
       "    }\n",
       "</style>\n",
       "<table border=\"1\" class=\"dataframe\">\n",
       "  <thead>\n",
       "    <tr style=\"text-align: right;\">\n",
       "      <th></th>\n",
       "      <th>id</th>\n",
       "      <th>ctime</th>\n",
       "    </tr>\n",
       "  </thead>\n",
       "  <tbody>\n",
       "    <tr>\n",
       "      <th>0</th>\n",
       "      <td>1074059568844956228</td>\n",
       "      <td>2022-03-16 03:42:36+00:00</td>\n",
       "    </tr>\n",
       "    <tr>\n",
       "      <th>1</th>\n",
       "      <td>1290767193704005938</td>\n",
       "      <td>2018-04-20 01:18:21+00:00</td>\n",
       "    </tr>\n",
       "    <tr>\n",
       "      <th>2</th>\n",
       "      <td>1353728928419473180</td>\n",
       "      <td>2022-03-16 03:30:59+00:00</td>\n",
       "    </tr>\n",
       "    <tr>\n",
       "      <th>3</th>\n",
       "      <td>156642789561794498</td>\n",
       "      <td>2018-04-20 01:23:58+00:00</td>\n",
       "    </tr>\n",
       "    <tr>\n",
       "      <th>4</th>\n",
       "      <td>289061880</td>\n",
       "      <td>2022-03-03 09:20:38+00:00</td>\n",
       "    </tr>\n",
       "    <tr>\n",
       "      <th>...</th>\n",
       "      <td>...</td>\n",
       "      <td>...</td>\n",
       "    </tr>\n",
       "    <tr>\n",
       "      <th>513</th>\n",
       "      <td>i-0fe60d340a9954fa6</td>\n",
       "      <td>2019-10-04 14:34:51+00:00</td>\n",
       "    </tr>\n",
       "    <tr>\n",
       "      <th>514</th>\n",
       "      <td>i-0ff599989ea08e402</td>\n",
       "      <td>2022-04-25 23:19:00+00:00</td>\n",
       "    </tr>\n",
       "    <tr>\n",
       "      <th>515</th>\n",
       "      <td>i-0ffbda8eb32897978</td>\n",
       "      <td>2020-08-27 18:41:14+00:00</td>\n",
       "    </tr>\n",
       "    <tr>\n",
       "      <th>516</th>\n",
       "      <td>someInstance1</td>\n",
       "      <td>2022-04-26 01:02:50+00:00</td>\n",
       "    </tr>\n",
       "    <tr>\n",
       "      <th>517</th>\n",
       "      <td>someInstance2</td>\n",
       "      <td>2019-09-05 10:40:11+00:00</td>\n",
       "    </tr>\n",
       "  </tbody>\n",
       "</table>\n",
       "<p>518 rows × 2 columns</p>\n",
       "</div>"
      ],
      "text/plain": [
       "                      id                     ctime\n",
       "0    1074059568844956228 2022-03-16 03:42:36+00:00\n",
       "1    1290767193704005938 2018-04-20 01:18:21+00:00\n",
       "2    1353728928419473180 2022-03-16 03:30:59+00:00\n",
       "3     156642789561794498 2018-04-20 01:23:58+00:00\n",
       "4              289061880 2022-03-03 09:20:38+00:00\n",
       "..                   ...                       ...\n",
       "513  i-0fe60d340a9954fa6 2019-10-04 14:34:51+00:00\n",
       "514  i-0ff599989ea08e402 2022-04-25 23:19:00+00:00\n",
       "515  i-0ffbda8eb32897978 2020-08-27 18:41:14+00:00\n",
       "516        someInstance1 2022-04-26 01:02:50+00:00\n",
       "517        someInstance2 2019-09-05 10:40:11+00:00\n",
       "\n",
       "[518 rows x 2 columns]"
      ]
     },
     "execution_count": 19,
     "metadata": {},
     "output_type": "execute_result"
    }
   ],
   "source": [
    "rnb.search(\"is(instance)\")[[\"id\", \"ctime\"]]"
   ]
  },
  {
   "cell_type": "markdown",
   "metadata": {},
   "source": [
    "Using the cli command:"
   ]
  },
  {
   "cell_type": "code",
   "execution_count": 20,
   "metadata": {},
   "outputs": [
    {
     "data": {
      "text/html": [
       "<div>\n",
       "<style scoped>\n",
       "    .dataframe tbody tr th:only-of-type {\n",
       "        vertical-align: middle;\n",
       "    }\n",
       "\n",
       "    .dataframe tbody tr th {\n",
       "        vertical-align: top;\n",
       "    }\n",
       "\n",
       "    .dataframe thead th {\n",
       "        text-align: right;\n",
       "    }\n",
       "</style>\n",
       "<table border=\"1\" class=\"dataframe\">\n",
       "  <thead>\n",
       "    <tr style=\"text-align: right;\">\n",
       "      <th></th>\n",
       "      <th>0</th>\n",
       "    </tr>\n",
       "  </thead>\n",
       "  <tbody>\n",
       "    <tr>\n",
       "      <th>0</th>\n",
       "      <td>id=i-065af67d77cd5a272, ctime=2019-03-12T17:21...</td>\n",
       "    </tr>\n",
       "    <tr>\n",
       "      <th>1</th>\n",
       "      <td>id=i-019f3f3a2a8d1990e, ctime=2019-03-12T17:22...</td>\n",
       "    </tr>\n",
       "    <tr>\n",
       "      <th>2</th>\n",
       "      <td>id=i-0667dc8de49a4319e, ctime=2019-03-12T17:22...</td>\n",
       "    </tr>\n",
       "    <tr>\n",
       "      <th>3</th>\n",
       "      <td>id=i-076b9763c755a9b51, ctime=2019-03-12T17:22...</td>\n",
       "    </tr>\n",
       "    <tr>\n",
       "      <th>4</th>\n",
       "      <td>id=i-074fcfe526f95c9fd, ctime=2019-03-12T17:22...</td>\n",
       "    </tr>\n",
       "    <tr>\n",
       "      <th>...</th>\n",
       "      <td>...</td>\n",
       "    </tr>\n",
       "    <tr>\n",
       "      <th>513</th>\n",
       "      <td>id=8995932377571976788, ctime=2022-03-16T03:25...</td>\n",
       "    </tr>\n",
       "    <tr>\n",
       "      <th>514</th>\n",
       "      <td>id=1353728928419473180, ctime=2022-03-16T03:30...</td>\n",
       "    </tr>\n",
       "    <tr>\n",
       "      <th>515</th>\n",
       "      <td>id=1074059568844956228, ctime=2022-03-16T03:42...</td>\n",
       "    </tr>\n",
       "    <tr>\n",
       "      <th>516</th>\n",
       "      <td>id=785157051786257304, ctime=2022-03-16T03:45:59Z</td>\n",
       "    </tr>\n",
       "    <tr>\n",
       "      <th>517</th>\n",
       "      <td>id=1290767193704005938, ctime=2018-04-20T01:18...</td>\n",
       "    </tr>\n",
       "  </tbody>\n",
       "</table>\n",
       "<p>518 rows × 1 columns</p>\n",
       "</div>"
      ],
      "text/plain": [
       "                                                     0\n",
       "0    id=i-065af67d77cd5a272, ctime=2019-03-12T17:21...\n",
       "1    id=i-019f3f3a2a8d1990e, ctime=2019-03-12T17:22...\n",
       "2    id=i-0667dc8de49a4319e, ctime=2019-03-12T17:22...\n",
       "3    id=i-076b9763c755a9b51, ctime=2019-03-12T17:22...\n",
       "4    id=i-074fcfe526f95c9fd, ctime=2019-03-12T17:22...\n",
       "..                                                 ...\n",
       "513  id=8995932377571976788, ctime=2022-03-16T03:25...\n",
       "514  id=1353728928419473180, ctime=2022-03-16T03:30...\n",
       "515  id=1074059568844956228, ctime=2022-03-16T03:42...\n",
       "516  id=785157051786257304, ctime=2022-03-16T03:45:59Z\n",
       "517  id=1290767193704005938, ctime=2018-04-20T01:18...\n",
       "\n",
       "[518 rows x 1 columns]"
      ]
     },
     "execution_count": 20,
     "metadata": {},
     "output_type": "execute_result"
    }
   ],
   "source": [
    "rnb.cli_execute('search is(instance) | list id, ctime')"
   ]
  },
  {
   "cell_type": "markdown",
   "metadata": {},
   "source": [
    "### Filtering\n",
    "\n",
    "Get list of all compute instances with more than two CPU cores:"
   ]
  },
  {
   "cell_type": "code",
   "execution_count": 23,
   "metadata": {},
   "outputs": [
    {
     "data": {
      "text/plain": [
       "0      1074059568844956228\n",
       "1      1290767193704005938\n",
       "2      1353728928419473180\n",
       "3       419678222777377802\n",
       "4      6304874975645721945\n",
       "              ...         \n",
       "458    i-0fcfab8577ff3838b\n",
       "459    i-0fdedced1ad62e89b\n",
       "460    i-0ff599989ea08e402\n",
       "461    i-0ffbda8eb32897978\n",
       "462          someInstance1\n",
       "Name: id, Length: 463, dtype: object"
      ]
     },
     "execution_count": 23,
     "metadata": {},
     "output_type": "execute_result"
    }
   ],
   "source": [
    "rnb.search(\"is(instance) and instance_cores > 2\")['id']"
   ]
  },
  {
   "cell_type": "markdown",
   "metadata": {},
   "source": [
    "Get list volumes that are not in use, larger than 10GB, older than 30 days. \n"
   ]
  },
  {
   "cell_type": "code",
   "execution_count": 30,
   "metadata": {},
   "outputs": [
    {
     "data": {
      "text/plain": [
       "0       10231946733915195\n",
       "1     1187704278967958860\n",
       "2     1323135876407226528\n",
       "3     1399984592326388343\n",
       "4     1425309235655562935\n",
       "             ...         \n",
       "94    8874124991960765941\n",
       "95    8905146741875910405\n",
       "96    9082245625223045849\n",
       "97    9172374453082511230\n",
       "98    9213175237926489244\n",
       "Name: id, Length: 99, dtype: object"
      ]
     },
     "execution_count": 30,
     "metadata": {},
     "output_type": "execute_result"
    }
   ],
   "source": [
    "rnb.search(\"is(volume) and volume_status != in-use and volume_size > 10 and age > 30d\")['id']"
   ]
  },
  {
   "cell_type": "markdown",
   "metadata": {},
   "source": [
    "### Aggregation\n",
    "Count the number of instances by account ID:"
   ]
  },
  {
   "cell_type": "code",
   "execution_count": 41,
   "metadata": {},
   "outputs": [
    {
     "data": {
      "text/plain": [
       "account_id\n",
       "15e1db0c90556d39dcf82aff3a71ff79     32\n",
       "1f9e45c3383045dd36c363b971f0ebc5    121\n",
       "3952aea55166c926c697eb8a23c23891     44\n",
       "4189a55c3a9ea507e92823fa49d07bac     67\n",
       "47097842aa65aac3333838773c5d9dab     45\n",
       "515e3adc7fe72a8d38d02d125a84785d      1\n",
       "5c362c78030c244b92b9b7ca1600c4ba      6\n",
       "5d9b9ebdd511fa5f57c9d56817158839      1\n",
       "6baf7bca3649aaf96440be85a17ea718      7\n",
       "6e67770ac4e8e642fb43003d84d7c5e0      2\n",
       "7945b67f00e00aadc09705c978b84bb3     13\n",
       "79c89adf68f53d2ff3f4bd6e41b227ac      1\n",
       "883b8eec0b12eca780907e713a271ec7     30\n",
       "bab2ce2f28991087879fb2ae2f6de4cf      6\n",
       "c1962dd1b9dbdff5150f638b5450efb7     56\n",
       "c24aa952190cd0d79ee705ab29604b0a      5\n",
       "c41aba4ba55638094017d6725bc85c90      5\n",
       "da82cc12b0b6f9dd689f127d591303d1      2\n",
       "e4fd307c4993a20d6eec29b5e9fbac91     18\n",
       "e53ab526acb9cb43a9e249d9255f995a     46\n",
       "e7b1d1d376181047ff2f453863683f57      1\n",
       "f123e52be71b0e2786090c8f5f8c3bdf      7\n",
       "ff21bcae70a1f9be31411c2555d32c3f      2\n",
       "Name: account_id, dtype: int64"
      ]
     },
     "execution_count": 41,
     "metadata": {},
     "output_type": "execute_result"
    }
   ],
   "source": [
    "rnb.search(\"is(instance)\").groupby([\"account_id\"])[\"account_id\"].count()"
   ]
  },
  {
   "cell_type": "markdown",
   "metadata": {},
   "source": [
    "Aggregate RAM usage (bytes) data grouped by cloud, region, and instance type:"
   ]
  },
  {
   "cell_type": "code",
   "execution_count": 44,
   "metadata": {},
   "outputs": [
    {
     "data": {
      "text/html": [
       "<div>\n",
       "<style scoped>\n",
       "    .dataframe tbody tr th:only-of-type {\n",
       "        vertical-align: middle;\n",
       "    }\n",
       "\n",
       "    .dataframe tbody tr th {\n",
       "        vertical-align: top;\n",
       "    }\n",
       "\n",
       "    .dataframe thead th {\n",
       "        text-align: right;\n",
       "    }\n",
       "</style>\n",
       "<table border=\"1\" class=\"dataframe\">\n",
       "  <thead>\n",
       "    <tr style=\"text-align: right;\">\n",
       "      <th></th>\n",
       "      <th>cloud_id</th>\n",
       "      <th>region_id</th>\n",
       "      <th>instance_type</th>\n",
       "      <th>instance_cores</th>\n",
       "    </tr>\n",
       "  </thead>\n",
       "  <tbody>\n",
       "    <tr>\n",
       "      <th>0</th>\n",
       "      <td>aws</td>\n",
       "      <td>eu-central-1</td>\n",
       "      <td>m5.2xlarge</td>\n",
       "      <td>16</td>\n",
       "    </tr>\n",
       "    <tr>\n",
       "      <th>1</th>\n",
       "      <td>aws</td>\n",
       "      <td>eu-central-1</td>\n",
       "      <td>m5.xlarge</td>\n",
       "      <td>6</td>\n",
       "    </tr>\n",
       "    <tr>\n",
       "      <th>2</th>\n",
       "      <td>aws</td>\n",
       "      <td>us-east-1</td>\n",
       "      <td>m4.2xlarge</td>\n",
       "      <td>448</td>\n",
       "    </tr>\n",
       "    <tr>\n",
       "      <th>3</th>\n",
       "      <td>aws</td>\n",
       "      <td>us-east-1</td>\n",
       "      <td>m5.2xlarge</td>\n",
       "      <td>80</td>\n",
       "    </tr>\n",
       "    <tr>\n",
       "      <th>4</th>\n",
       "      <td>aws</td>\n",
       "      <td>us-east-1</td>\n",
       "      <td>m5.xlarge</td>\n",
       "      <td>44</td>\n",
       "    </tr>\n",
       "    <tr>\n",
       "      <th>5</th>\n",
       "      <td>aws</td>\n",
       "      <td>us-east-1</td>\n",
       "      <td>m5a.large</td>\n",
       "      <td>2</td>\n",
       "    </tr>\n",
       "    <tr>\n",
       "      <th>6</th>\n",
       "      <td>aws</td>\n",
       "      <td>us-east-1</td>\n",
       "      <td>t2.medium</td>\n",
       "      <td>6</td>\n",
       "    </tr>\n",
       "    <tr>\n",
       "      <th>7</th>\n",
       "      <td>aws</td>\n",
       "      <td>us-east-1</td>\n",
       "      <td>t2.xlarge</td>\n",
       "      <td>16</td>\n",
       "    </tr>\n",
       "    <tr>\n",
       "      <th>8</th>\n",
       "      <td>aws</td>\n",
       "      <td>us-west-2</td>\n",
       "      <td>c5.2xlarge</td>\n",
       "      <td>48</td>\n",
       "    </tr>\n",
       "    <tr>\n",
       "      <th>9</th>\n",
       "      <td>aws</td>\n",
       "      <td>us-west-2</td>\n",
       "      <td>c5.4xlarge</td>\n",
       "      <td>32</td>\n",
       "    </tr>\n",
       "    <tr>\n",
       "      <th>10</th>\n",
       "      <td>aws</td>\n",
       "      <td>us-west-2</td>\n",
       "      <td>c5a.2xlarge</td>\n",
       "      <td>40</td>\n",
       "    </tr>\n",
       "    <tr>\n",
       "      <th>11</th>\n",
       "      <td>aws</td>\n",
       "      <td>us-west-2</td>\n",
       "      <td>g4dn.2xlarge</td>\n",
       "      <td>40</td>\n",
       "    </tr>\n",
       "    <tr>\n",
       "      <th>12</th>\n",
       "      <td>aws</td>\n",
       "      <td>us-west-2</td>\n",
       "      <td>m5.2xlarge</td>\n",
       "      <td>1272</td>\n",
       "    </tr>\n",
       "    <tr>\n",
       "      <th>13</th>\n",
       "      <td>aws</td>\n",
       "      <td>us-west-2</td>\n",
       "      <td>m5.4xlarge</td>\n",
       "      <td>432</td>\n",
       "    </tr>\n",
       "    <tr>\n",
       "      <th>14</th>\n",
       "      <td>aws</td>\n",
       "      <td>us-west-2</td>\n",
       "      <td>m5.large</td>\n",
       "      <td>12</td>\n",
       "    </tr>\n",
       "    <tr>\n",
       "      <th>15</th>\n",
       "      <td>aws</td>\n",
       "      <td>us-west-2</td>\n",
       "      <td>m5.xlarge</td>\n",
       "      <td>400</td>\n",
       "    </tr>\n",
       "    <tr>\n",
       "      <th>16</th>\n",
       "      <td>aws</td>\n",
       "      <td>us-west-2</td>\n",
       "      <td>p2.xlarge</td>\n",
       "      <td>8</td>\n",
       "    </tr>\n",
       "    <tr>\n",
       "      <th>17</th>\n",
       "      <td>aws</td>\n",
       "      <td>us-west-2</td>\n",
       "      <td>r5.xlarge</td>\n",
       "      <td>12</td>\n",
       "    </tr>\n",
       "    <tr>\n",
       "      <th>18</th>\n",
       "      <td>aws</td>\n",
       "      <td>us-west-2</td>\n",
       "      <td>t2.medium</td>\n",
       "      <td>2</td>\n",
       "    </tr>\n",
       "    <tr>\n",
       "      <th>19</th>\n",
       "      <td>aws</td>\n",
       "      <td>us-west-2</td>\n",
       "      <td>t2.micro</td>\n",
       "      <td>1</td>\n",
       "    </tr>\n",
       "    <tr>\n",
       "      <th>20</th>\n",
       "      <td>aws</td>\n",
       "      <td>us-west-2</td>\n",
       "      <td>t2.xlarge</td>\n",
       "      <td>8</td>\n",
       "    </tr>\n",
       "    <tr>\n",
       "      <th>21</th>\n",
       "      <td>aws</td>\n",
       "      <td>us-west-2</td>\n",
       "      <td>t3.large</td>\n",
       "      <td>10</td>\n",
       "    </tr>\n",
       "    <tr>\n",
       "      <th>22</th>\n",
       "      <td>aws</td>\n",
       "      <td>us-west-2</td>\n",
       "      <td>t3.medium</td>\n",
       "      <td>4</td>\n",
       "    </tr>\n",
       "    <tr>\n",
       "      <th>23</th>\n",
       "      <td>aws</td>\n",
       "      <td>us-west-2</td>\n",
       "      <td>t3.small</td>\n",
       "      <td>4</td>\n",
       "    </tr>\n",
       "    <tr>\n",
       "      <th>24</th>\n",
       "      <td>aws</td>\n",
       "      <td>us-west-2</td>\n",
       "      <td>t3.xlarge</td>\n",
       "      <td>4</td>\n",
       "    </tr>\n",
       "    <tr>\n",
       "      <th>25</th>\n",
       "      <td>do</td>\n",
       "      <td>ams3</td>\n",
       "      <td></td>\n",
       "      <td>6</td>\n",
       "    </tr>\n",
       "    <tr>\n",
       "      <th>26</th>\n",
       "      <td>do</td>\n",
       "      <td>fra1</td>\n",
       "      <td></td>\n",
       "      <td>6</td>\n",
       "    </tr>\n",
       "    <tr>\n",
       "      <th>27</th>\n",
       "      <td>example</td>\n",
       "      <td>us-west</td>\n",
       "      <td></td>\n",
       "      <td>4</td>\n",
       "    </tr>\n",
       "    <tr>\n",
       "      <th>28</th>\n",
       "      <td>gcp</td>\n",
       "      <td>1000</td>\n",
       "      <td>e2-medium</td>\n",
       "      <td>2</td>\n",
       "    </tr>\n",
       "    <tr>\n",
       "      <th>29</th>\n",
       "      <td>gcp</td>\n",
       "      <td>1000</td>\n",
       "      <td>e2-standard-16</td>\n",
       "      <td>96</td>\n",
       "    </tr>\n",
       "  </tbody>\n",
       "</table>\n",
       "</div>"
      ],
      "text/plain": [
       "   cloud_id     region_id   instance_type  instance_cores\n",
       "0       aws  eu-central-1      m5.2xlarge              16\n",
       "1       aws  eu-central-1       m5.xlarge               6\n",
       "2       aws     us-east-1      m4.2xlarge             448\n",
       "3       aws     us-east-1      m5.2xlarge              80\n",
       "4       aws     us-east-1       m5.xlarge              44\n",
       "5       aws     us-east-1       m5a.large               2\n",
       "6       aws     us-east-1       t2.medium               6\n",
       "7       aws     us-east-1       t2.xlarge              16\n",
       "8       aws     us-west-2      c5.2xlarge              48\n",
       "9       aws     us-west-2      c5.4xlarge              32\n",
       "10      aws     us-west-2     c5a.2xlarge              40\n",
       "11      aws     us-west-2    g4dn.2xlarge              40\n",
       "12      aws     us-west-2      m5.2xlarge            1272\n",
       "13      aws     us-west-2      m5.4xlarge             432\n",
       "14      aws     us-west-2        m5.large              12\n",
       "15      aws     us-west-2       m5.xlarge             400\n",
       "16      aws     us-west-2       p2.xlarge               8\n",
       "17      aws     us-west-2       r5.xlarge              12\n",
       "18      aws     us-west-2       t2.medium               2\n",
       "19      aws     us-west-2        t2.micro               1\n",
       "20      aws     us-west-2       t2.xlarge               8\n",
       "21      aws     us-west-2        t3.large              10\n",
       "22      aws     us-west-2       t3.medium               4\n",
       "23      aws     us-west-2        t3.small               4\n",
       "24      aws     us-west-2       t3.xlarge               4\n",
       "25       do          ams3                               6\n",
       "26       do          fra1                               6\n",
       "27  example       us-west                               4\n",
       "28      gcp          1000       e2-medium               2\n",
       "29      gcp          1000  e2-standard-16              96"
      ]
     },
     "execution_count": 44,
     "metadata": {},
     "output_type": "execute_result"
    }
   ],
   "source": [
    "rnb.search(\"is(instance) and instance_status == running\") \\\n",
    "    .groupby([\"cloud_id\", \"region_id\", \"instance_type\"], as_index=False)[[\"instance_cores\"]] \\\n",
    "    .sum()"
   ]
  },
  {
   "cell_type": "markdown",
   "metadata": {},
   "source": [
    "Using the cli:"
   ]
  },
  {
   "cell_type": "code",
   "execution_count": 45,
   "metadata": {},
   "outputs": [
    {
     "data": {
      "text/html": [
       "<div>\n",
       "<style scoped>\n",
       "    .dataframe tbody tr th:only-of-type {\n",
       "        vertical-align: middle;\n",
       "    }\n",
       "\n",
       "    .dataframe tbody tr th {\n",
       "        vertical-align: top;\n",
       "    }\n",
       "\n",
       "    .dataframe thead th {\n",
       "        text-align: right;\n",
       "    }\n",
       "</style>\n",
       "<table border=\"1\" class=\"dataframe\">\n",
       "  <thead>\n",
       "    <tr style=\"text-align: right;\">\n",
       "      <th></th>\n",
       "      <th>memory_bytes</th>\n",
       "      <th>group.cloud</th>\n",
       "      <th>group.region</th>\n",
       "      <th>group.type</th>\n",
       "    </tr>\n",
       "  </thead>\n",
       "  <tbody>\n",
       "    <tr>\n",
       "      <th>0</th>\n",
       "      <td>384</td>\n",
       "      <td>gcp</td>\n",
       "      <td>us-central1</td>\n",
       "      <td>e2-standard-16</td>\n",
       "    </tr>\n",
       "    <tr>\n",
       "      <th>1</th>\n",
       "      <td>4</td>\n",
       "      <td>gcp</td>\n",
       "      <td>us-central1</td>\n",
       "      <td>e2-medium</td>\n",
       "    </tr>\n",
       "    <tr>\n",
       "      <th>2</th>\n",
       "      <td>32</td>\n",
       "      <td>example</td>\n",
       "      <td>US West</td>\n",
       "      <td></td>\n",
       "    </tr>\n",
       "    <tr>\n",
       "      <th>3</th>\n",
       "      <td>12288</td>\n",
       "      <td>do</td>\n",
       "      <td>Frankfurt 1</td>\n",
       "      <td></td>\n",
       "    </tr>\n",
       "    <tr>\n",
       "      <th>4</th>\n",
       "      <td>24576</td>\n",
       "      <td>do</td>\n",
       "      <td>Amsterdam 3</td>\n",
       "      <td></td>\n",
       "    </tr>\n",
       "    <tr>\n",
       "      <th>5</th>\n",
       "      <td>64</td>\n",
       "      <td>aws</td>\n",
       "      <td>us-east-1</td>\n",
       "      <td>t2.xlarge</td>\n",
       "    </tr>\n",
       "    <tr>\n",
       "      <th>6</th>\n",
       "      <td>64</td>\n",
       "      <td>aws</td>\n",
       "      <td>us-west-2</td>\n",
       "      <td>c5.4xlarge</td>\n",
       "    </tr>\n",
       "    <tr>\n",
       "      <th>7</th>\n",
       "      <td>4</td>\n",
       "      <td>aws</td>\n",
       "      <td>us-west-2</td>\n",
       "      <td>t2.medium</td>\n",
       "    </tr>\n",
       "    <tr>\n",
       "      <th>8</th>\n",
       "      <td>4</td>\n",
       "      <td>aws</td>\n",
       "      <td>us-west-2</td>\n",
       "      <td>t3.small</td>\n",
       "    </tr>\n",
       "    <tr>\n",
       "      <th>9</th>\n",
       "      <td>122</td>\n",
       "      <td>aws</td>\n",
       "      <td>us-west-2</td>\n",
       "      <td>p2.xlarge</td>\n",
       "    </tr>\n",
       "    <tr>\n",
       "      <th>10</th>\n",
       "      <td>12</td>\n",
       "      <td>aws</td>\n",
       "      <td>us-east-1</td>\n",
       "      <td>t2.medium</td>\n",
       "    </tr>\n",
       "    <tr>\n",
       "      <th>11</th>\n",
       "      <td>96</td>\n",
       "      <td>aws</td>\n",
       "      <td>us-west-2</td>\n",
       "      <td>c5.2xlarge</td>\n",
       "    </tr>\n",
       "    <tr>\n",
       "      <th>12</th>\n",
       "      <td>80</td>\n",
       "      <td>aws</td>\n",
       "      <td>us-west-2</td>\n",
       "      <td>c5a.2xlarge</td>\n",
       "    </tr>\n",
       "    <tr>\n",
       "      <th>13</th>\n",
       "      <td>160</td>\n",
       "      <td>aws</td>\n",
       "      <td>us-west-2</td>\n",
       "      <td>g4dn.2xlarge</td>\n",
       "    </tr>\n",
       "    <tr>\n",
       "      <th>14</th>\n",
       "      <td>1</td>\n",
       "      <td>aws</td>\n",
       "      <td>us-west-2</td>\n",
       "      <td>t2.micro</td>\n",
       "    </tr>\n",
       "    <tr>\n",
       "      <th>15</th>\n",
       "      <td>320</td>\n",
       "      <td>aws</td>\n",
       "      <td>us-east-1</td>\n",
       "      <td>m5.2xlarge</td>\n",
       "    </tr>\n",
       "    <tr>\n",
       "      <th>16</th>\n",
       "      <td>8</td>\n",
       "      <td>aws</td>\n",
       "      <td>us-west-2</td>\n",
       "      <td>t3.medium</td>\n",
       "    </tr>\n",
       "    <tr>\n",
       "      <th>17</th>\n",
       "      <td>1728</td>\n",
       "      <td>aws</td>\n",
       "      <td>us-west-2</td>\n",
       "      <td>m5.4xlarge</td>\n",
       "    </tr>\n",
       "    <tr>\n",
       "      <th>18</th>\n",
       "      <td>1792</td>\n",
       "      <td>aws</td>\n",
       "      <td>us-east-1</td>\n",
       "      <td>m4.2xlarge</td>\n",
       "    </tr>\n",
       "    <tr>\n",
       "      <th>19</th>\n",
       "      <td>8</td>\n",
       "      <td>aws</td>\n",
       "      <td>us-east-1</td>\n",
       "      <td>m5a.large</td>\n",
       "    </tr>\n",
       "    <tr>\n",
       "      <th>20</th>\n",
       "      <td>32</td>\n",
       "      <td>aws</td>\n",
       "      <td>us-west-2</td>\n",
       "      <td>t2.xlarge</td>\n",
       "    </tr>\n",
       "    <tr>\n",
       "      <th>21</th>\n",
       "      <td>0</td>\n",
       "      <td>aws</td>\n",
       "      <td>eu-central-1</td>\n",
       "      <td>m5.2xlarge</td>\n",
       "    </tr>\n",
       "    <tr>\n",
       "      <th>22</th>\n",
       "      <td>40</td>\n",
       "      <td>aws</td>\n",
       "      <td>us-west-2</td>\n",
       "      <td>t3.large</td>\n",
       "    </tr>\n",
       "    <tr>\n",
       "      <th>23</th>\n",
       "      <td>0</td>\n",
       "      <td>aws</td>\n",
       "      <td>eu-central-1</td>\n",
       "      <td>m5.xlarge</td>\n",
       "    </tr>\n",
       "    <tr>\n",
       "      <th>24</th>\n",
       "      <td>48</td>\n",
       "      <td>aws</td>\n",
       "      <td>us-west-2</td>\n",
       "      <td>m5.large</td>\n",
       "    </tr>\n",
       "    <tr>\n",
       "      <th>25</th>\n",
       "      <td>16</td>\n",
       "      <td>aws</td>\n",
       "      <td>us-west-2</td>\n",
       "      <td>t3.xlarge</td>\n",
       "    </tr>\n",
       "    <tr>\n",
       "      <th>26</th>\n",
       "      <td>176</td>\n",
       "      <td>aws</td>\n",
       "      <td>us-east-1</td>\n",
       "      <td>m5.xlarge</td>\n",
       "    </tr>\n",
       "    <tr>\n",
       "      <th>27</th>\n",
       "      <td>96</td>\n",
       "      <td>aws</td>\n",
       "      <td>us-west-2</td>\n",
       "      <td>r5.xlarge</td>\n",
       "    </tr>\n",
       "    <tr>\n",
       "      <th>28</th>\n",
       "      <td>1600</td>\n",
       "      <td>aws</td>\n",
       "      <td>us-west-2</td>\n",
       "      <td>m5.xlarge</td>\n",
       "    </tr>\n",
       "    <tr>\n",
       "      <th>29</th>\n",
       "      <td>5088</td>\n",
       "      <td>aws</td>\n",
       "      <td>us-west-2</td>\n",
       "      <td>m5.2xlarge</td>\n",
       "    </tr>\n",
       "  </tbody>\n",
       "</table>\n",
       "</div>"
      ],
      "text/plain": [
       "    memory_bytes group.cloud  group.region      group.type\n",
       "0            384         gcp   us-central1  e2-standard-16\n",
       "1              4         gcp   us-central1       e2-medium\n",
       "2             32     example       US West                \n",
       "3          12288          do   Frankfurt 1                \n",
       "4          24576          do   Amsterdam 3                \n",
       "5             64         aws     us-east-1       t2.xlarge\n",
       "6             64         aws     us-west-2      c5.4xlarge\n",
       "7              4         aws     us-west-2       t2.medium\n",
       "8              4         aws     us-west-2        t3.small\n",
       "9            122         aws     us-west-2       p2.xlarge\n",
       "10            12         aws     us-east-1       t2.medium\n",
       "11            96         aws     us-west-2      c5.2xlarge\n",
       "12            80         aws     us-west-2     c5a.2xlarge\n",
       "13           160         aws     us-west-2    g4dn.2xlarge\n",
       "14             1         aws     us-west-2        t2.micro\n",
       "15           320         aws     us-east-1      m5.2xlarge\n",
       "16             8         aws     us-west-2       t3.medium\n",
       "17          1728         aws     us-west-2      m5.4xlarge\n",
       "18          1792         aws     us-east-1      m4.2xlarge\n",
       "19             8         aws     us-east-1       m5a.large\n",
       "20            32         aws     us-west-2       t2.xlarge\n",
       "21             0         aws  eu-central-1      m5.2xlarge\n",
       "22            40         aws     us-west-2        t3.large\n",
       "23             0         aws  eu-central-1       m5.xlarge\n",
       "24            48         aws     us-west-2        m5.large\n",
       "25            16         aws     us-west-2       t3.xlarge\n",
       "26           176         aws     us-east-1       m5.xlarge\n",
       "27            96         aws     us-west-2       r5.xlarge\n",
       "28          1600         aws     us-west-2       m5.xlarge\n",
       "29          5088         aws     us-west-2      m5.2xlarge"
      ]
     },
     "execution_count": 45,
     "metadata": {},
     "output_type": "execute_result"
    }
   ],
   "source": [
    "query = \"\"\"\n",
    "search is(instance) and instance_status == running | aggregate\n",
    "  /ancestors.cloud.reported.name as cloud,\n",
    "  /ancestors.region.reported.name as region,\n",
    "  instance_type as type: sum(instance_memory) as memory_bytes\n",
    "  \"\"\"\n",
    "rnb.cli_execute(query)"
   ]
  },
  {
   "cell_type": "code",
   "execution_count": null,
   "metadata": {},
   "outputs": [],
   "source": []
  }
 ],
 "metadata": {
  "interpreter": {
   "hash": "fca1e5436334648477c78864a0d70230d2576d6753e4eb0b653900883ded2ea6"
  },
  "kernelspec": {
   "display_name": "Python 3.9.10 ('venv': venv)",
   "language": "python",
   "name": "python3"
  },
  "language_info": {
   "codemirror_mode": {
    "name": "ipython",
    "version": 3
   },
   "file_extension": ".py",
   "mimetype": "text/x-python",
   "name": "python",
   "nbconvert_exporter": "python",
   "pygments_lexer": "ipython3",
   "version": "3.9.10"
  },
  "orig_nbformat": 4
 },
 "nbformat": 4,
 "nbformat_minor": 2
}
